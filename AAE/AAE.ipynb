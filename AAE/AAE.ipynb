{
  "nbformat": 4,
  "nbformat_minor": 0,
  "metadata": {
    "colab": {
      "name": "AAE.ipynb",
      "provenance": []
    },
    "kernelspec": {
      "name": "python3",
      "display_name": "Python 3"
    },
    "widgets": {
      "application/vnd.jupyter.widget-state+json": {
        "1e43cccc5ab348d287f2866e02f5f2a5": {
          "model_module": "@jupyter-widgets/controls",
          "model_name": "HBoxModel",
          "state": {
            "_view_name": "HBoxView",
            "_dom_classes": [],
            "_model_name": "HBoxModel",
            "_view_module": "@jupyter-widgets/controls",
            "_model_module_version": "1.5.0",
            "_view_count": null,
            "_view_module_version": "1.5.0",
            "box_style": "",
            "layout": "IPY_MODEL_ef8339a6e558400aba1d8f36415c5a5f",
            "_model_module": "@jupyter-widgets/controls",
            "children": [
              "IPY_MODEL_c86b982556304fef9eee058aa0faf6b0",
              "IPY_MODEL_48ab8ee45c004cf1bfecdf73d405c1c3"
            ]
          }
        },
        "ef8339a6e558400aba1d8f36415c5a5f": {
          "model_module": "@jupyter-widgets/base",
          "model_name": "LayoutModel",
          "state": {
            "_view_name": "LayoutView",
            "grid_template_rows": null,
            "right": null,
            "justify_content": null,
            "_view_module": "@jupyter-widgets/base",
            "overflow": null,
            "_model_module_version": "1.2.0",
            "_view_count": null,
            "flex_flow": null,
            "width": null,
            "min_width": null,
            "border": null,
            "align_items": null,
            "bottom": null,
            "_model_module": "@jupyter-widgets/base",
            "top": null,
            "grid_column": null,
            "overflow_y": null,
            "overflow_x": null,
            "grid_auto_flow": null,
            "grid_area": null,
            "grid_template_columns": null,
            "flex": null,
            "_model_name": "LayoutModel",
            "justify_items": null,
            "grid_row": null,
            "max_height": null,
            "align_content": null,
            "visibility": null,
            "align_self": null,
            "height": null,
            "min_height": null,
            "padding": null,
            "grid_auto_rows": null,
            "grid_gap": null,
            "max_width": null,
            "order": null,
            "_view_module_version": "1.2.0",
            "grid_template_areas": null,
            "object_position": null,
            "object_fit": null,
            "grid_auto_columns": null,
            "margin": null,
            "display": null,
            "left": null
          }
        },
        "c86b982556304fef9eee058aa0faf6b0": {
          "model_module": "@jupyter-widgets/controls",
          "model_name": "FloatProgressModel",
          "state": {
            "_view_name": "ProgressView",
            "style": "IPY_MODEL_6965cb447cd94ba68b1d135df7635367",
            "_dom_classes": [],
            "description": "100%",
            "_model_name": "FloatProgressModel",
            "bar_style": "success",
            "max": 7500,
            "_view_module": "@jupyter-widgets/controls",
            "_model_module_version": "1.5.0",
            "value": 7500,
            "_view_count": null,
            "_view_module_version": "1.5.0",
            "orientation": "horizontal",
            "min": 0,
            "description_tooltip": null,
            "_model_module": "@jupyter-widgets/controls",
            "layout": "IPY_MODEL_8fe4380ffa4146429ed3e1efbeda1f09"
          }
        },
        "48ab8ee45c004cf1bfecdf73d405c1c3": {
          "model_module": "@jupyter-widgets/controls",
          "model_name": "HTMLModel",
          "state": {
            "_view_name": "HTMLView",
            "style": "IPY_MODEL_2558f9e1a84d4fa686e9d20d221ef590",
            "_dom_classes": [],
            "description": "",
            "_model_name": "HTMLModel",
            "placeholder": "​",
            "_view_module": "@jupyter-widgets/controls",
            "_model_module_version": "1.5.0",
            "value": " 7500/7500 [15:31&lt;00:00,  8.05it/s]",
            "_view_count": null,
            "_view_module_version": "1.5.0",
            "description_tooltip": null,
            "_model_module": "@jupyter-widgets/controls",
            "layout": "IPY_MODEL_f6d6ee753fac40cfa0729c6c6e5ee0e0"
          }
        },
        "6965cb447cd94ba68b1d135df7635367": {
          "model_module": "@jupyter-widgets/controls",
          "model_name": "ProgressStyleModel",
          "state": {
            "_view_name": "StyleView",
            "_model_name": "ProgressStyleModel",
            "description_width": "initial",
            "_view_module": "@jupyter-widgets/base",
            "_model_module_version": "1.5.0",
            "_view_count": null,
            "_view_module_version": "1.2.0",
            "bar_color": null,
            "_model_module": "@jupyter-widgets/controls"
          }
        },
        "8fe4380ffa4146429ed3e1efbeda1f09": {
          "model_module": "@jupyter-widgets/base",
          "model_name": "LayoutModel",
          "state": {
            "_view_name": "LayoutView",
            "grid_template_rows": null,
            "right": null,
            "justify_content": null,
            "_view_module": "@jupyter-widgets/base",
            "overflow": null,
            "_model_module_version": "1.2.0",
            "_view_count": null,
            "flex_flow": null,
            "width": null,
            "min_width": null,
            "border": null,
            "align_items": null,
            "bottom": null,
            "_model_module": "@jupyter-widgets/base",
            "top": null,
            "grid_column": null,
            "overflow_y": null,
            "overflow_x": null,
            "grid_auto_flow": null,
            "grid_area": null,
            "grid_template_columns": null,
            "flex": null,
            "_model_name": "LayoutModel",
            "justify_items": null,
            "grid_row": null,
            "max_height": null,
            "align_content": null,
            "visibility": null,
            "align_self": null,
            "height": null,
            "min_height": null,
            "padding": null,
            "grid_auto_rows": null,
            "grid_gap": null,
            "max_width": null,
            "order": null,
            "_view_module_version": "1.2.0",
            "grid_template_areas": null,
            "object_position": null,
            "object_fit": null,
            "grid_auto_columns": null,
            "margin": null,
            "display": null,
            "left": null
          }
        },
        "2558f9e1a84d4fa686e9d20d221ef590": {
          "model_module": "@jupyter-widgets/controls",
          "model_name": "DescriptionStyleModel",
          "state": {
            "_view_name": "StyleView",
            "_model_name": "DescriptionStyleModel",
            "description_width": "",
            "_view_module": "@jupyter-widgets/base",
            "_model_module_version": "1.5.0",
            "_view_count": null,
            "_view_module_version": "1.2.0",
            "_model_module": "@jupyter-widgets/controls"
          }
        },
        "f6d6ee753fac40cfa0729c6c6e5ee0e0": {
          "model_module": "@jupyter-widgets/base",
          "model_name": "LayoutModel",
          "state": {
            "_view_name": "LayoutView",
            "grid_template_rows": null,
            "right": null,
            "justify_content": null,
            "_view_module": "@jupyter-widgets/base",
            "overflow": null,
            "_model_module_version": "1.2.0",
            "_view_count": null,
            "flex_flow": null,
            "width": null,
            "min_width": null,
            "border": null,
            "align_items": null,
            "bottom": null,
            "_model_module": "@jupyter-widgets/base",
            "top": null,
            "grid_column": null,
            "overflow_y": null,
            "overflow_x": null,
            "grid_auto_flow": null,
            "grid_area": null,
            "grid_template_columns": null,
            "flex": null,
            "_model_name": "LayoutModel",
            "justify_items": null,
            "grid_row": null,
            "max_height": null,
            "align_content": null,
            "visibility": null,
            "align_self": null,
            "height": null,
            "min_height": null,
            "padding": null,
            "grid_auto_rows": null,
            "grid_gap": null,
            "max_width": null,
            "order": null,
            "_view_module_version": "1.2.0",
            "grid_template_areas": null,
            "object_position": null,
            "object_fit": null,
            "grid_auto_columns": null,
            "margin": null,
            "display": null,
            "left": null
          }
        }
      }
    }
  },
  "cells": [
    {
      "cell_type": "markdown",
      "metadata": {
        "id": "VMhnFe4xExS7"
      },
      "source": [
        "Adversarial Autoencoder"
      ]
    },
    {
      "cell_type": "code",
      "metadata": {
        "id": "3xlrMbOvEtoq"
      },
      "source": [
        "import torch \n",
        "import torch.nn as nn\n",
        "import torch.nn.functional as F\n",
        "import torch.utils.data as data\n",
        "import torch.distributions as distributions\n",
        "import torchvision\n",
        "import torchvision.transforms as transforms\n",
        "from torch.autograd import Variable\n",
        "\n",
        "import numpy as np\n",
        "import scipy.stats as sps\n",
        "import matplotlib.pyplot as plt\n",
        "%matplotlib inline"
      ],
      "execution_count": 3,
      "outputs": []
    },
    {
      "cell_type": "code",
      "metadata": {
        "id": "BBhcMki9G7nr"
      },
      "source": [
        "BATCH_SIZE = 8\n",
        "generative_lr = 1e-4\n",
        "reg_lr = 5*1e-5\n",
        "EPS = 1e-15"
      ],
      "execution_count": 71,
      "outputs": []
    },
    {
      "cell_type": "code",
      "metadata": {
        "id": "3PQdCOx-FKx9"
      },
      "source": [
        "transform = transforms.Compose([transforms.ToTensor()])\n",
        "train_data = torchvision.datasets.MNIST(root='./data',train = True, download=True, transform= transform)\n",
        "test_data = torchvision.datasets.MNIST(root='/data',train = False, download = True,transform = transforms)\n",
        "train_loader = data.DataLoader(dataset = train_data, batch_size = BATCH_SIZE, shuffle= True)\n",
        "test_loader = data.DataLoader(dataset= test_data, batch_size= BATCH_SIZE, shuffle= False)"
      ],
      "execution_count": 72,
      "outputs": []
    },
    {
      "cell_type": "code",
      "metadata": {
        "id": "zMswjoSQIOO4"
      },
      "source": [
        "def plot_tensor(tensor): \n",
        "  plt.imshow(tensor, cmap='gray')\n",
        "  plt.show()"
      ],
      "execution_count": 6,
      "outputs": []
    },
    {
      "cell_type": "code",
      "metadata": {
        "id": "_T_VCy4eHMvC",
        "outputId": "c8137bb4-0dff-4ee5-d4b2-940689f27218",
        "colab": {
          "base_uri": "https://localhost:8080/"
        }
      },
      "source": [
        "tensor_of_batch = (iter(train_loader).next())[0]\n",
        "tensor_of_batch.shape"
      ],
      "execution_count": 36,
      "outputs": [
        {
          "output_type": "execute_result",
          "data": {
            "text/plain": [
              "torch.Size([2, 1, 28, 28])"
            ]
          },
          "metadata": {
            "tags": []
          },
          "execution_count": 36
        }
      ]
    },
    {
      "cell_type": "code",
      "metadata": {
        "id": "OvSgQ0_KIIPA",
        "outputId": "be9042ad-4ef0-4116-921b-4b50d7929620",
        "colab": {
          "base_uri": "https://localhost:8080/",
          "height": 265
        }
      },
      "source": [
        "### consider one image\n",
        "plot_tensor(tensor_of_batch[0][0])"
      ],
      "execution_count": 37,
      "outputs": [
        {
          "output_type": "display_data",
          "data": {
            "image/png": "[encoded data removed]",
            "text/plain": [
              "<Figure size 432x288 with 1 Axes>"
            ]
          },
          "metadata": {
            "tags": [],
            "needs_background": "light"
          }
        }
      ]
    },
    {
      "cell_type": "code",
      "metadata": {
        "id": "MW_X0AvkJNUO"
      },
      "source": [
        "# Encoder\n",
        "class Q_net(nn.Module):\n",
        "  \n",
        "  def __init__(self,N,z_dim):\n",
        "    super(Q_net,self).__init__()\n",
        "    self.fc1 = nn.Linear(28*28,N)\n",
        "    self.fc2 = nn.Linear(N,N)\n",
        "    self.fc3 = nn.Linear(N,z_dim)\n",
        "  def forward(self,x):\n",
        "    x = x.view((-1,784))\n",
        "    x = self.fc1(x)\n",
        "    x = F.dropout(x , p=0.25, training = self.training)\n",
        "    x = F.relu(x) # nn.ReLU()\n",
        "    x = self.fc2(x)\n",
        "    x = F.dropout(x , p=0.25, training = self.training)\n",
        "    x = F.relu(x) # nn.ReLU()\n",
        "    x = self.fc3(x)\n",
        "    return  x"
      ],
      "execution_count": 73,
      "outputs": []
    },
    {
      "cell_type": "code",
      "metadata": {
        "id": "XNaKdh0MNEkM"
      },
      "source": [
        "# Decoder\n",
        "\n",
        "class P_net(nn.Module):\n",
        "\n",
        "  def __init__(self,N,z_dim):\n",
        "    super(P_net,self).__init__()\n",
        "    self.fc1 = nn.Linear(z_dim,N)\n",
        "    self.fc2 = nn.Linear(N,N)\n",
        "    self.fc3 = nn.Linear(N,28*28)\n",
        "\n",
        "  def forward(self,z):\n",
        "    z = z.view((-1,120))\n",
        "    x = self.fc1(z)\n",
        "    x = F.dropout(x, p=0.25, training= self.training)\n",
        "    x = F.relu(x)\n",
        "    x = self.fc2(x)\n",
        "    x = F.dropout(x, p=0.25,training = self.training)\n",
        "    x = F.relu(x)\n",
        "    x = self.fc3(x)\n",
        "    return F.softmax(x,dim = 0)"
      ],
      "execution_count": 86,
      "outputs": []
    },
    {
      "cell_type": "code",
      "metadata": {
        "id": "8FpZCqIAOlQk"
      },
      "source": [
        "# Discriminator\n",
        "class D_net_gauss(nn.Module):\n",
        "\n",
        "  def __init__(self,N,z_dim):\n",
        "    super(D_net_gauss,self).__init__()\n",
        "    self.fc1 = nn.Linear(z_dim,N)\n",
        "    self.fc2 = nn.Linear(N,N)\n",
        "    self.fc3 = nn.Linear(N,1)\n",
        "\n",
        "  def forward(self,z):\n",
        "    z = z.view((-1,120))\n",
        "    x = self.fc1(z)\n",
        "    x = F.dropout(x,p=0.2, training = self.training)\n",
        "    x = F.relu(x)\n",
        "    x = self.fc2(x)\n",
        "    x = F.dropout(x,p=0.2,training = self.training)\n",
        "    x = F.relu(x)\n",
        "    x = self.fc3(x)\n",
        "    return torch.sigmoid(x) # since it is a probability"
      ],
      "execution_count": 87,
      "outputs": []
    },
    {
      "cell_type": "code",
      "metadata": {
        "id": "O2l4PdXOQNDX"
      },
      "source": [
        "z_dims = 120\n",
        "N = 1000\n",
        "Q = Q_net(N,z_dims) # encoder\n",
        "P = P_net(N,z_dims) # decoder\n",
        "D_gauss = D_net_gauss(500,z_dims) # discriminator"
      ],
      "execution_count": 88,
      "outputs": []
    },
    {
      "cell_type": "code",
      "metadata": {
        "id": "2YGD7mrOR9Lw"
      },
      "source": [
        "#encode/decode optimizers\n",
        "optim_P = torch.optim.Adam(P.parameters(), lr = generative_lr)\n",
        "optim_Q_enc = torch.optim.Adam(Q.parameters(),lr = generative_lr)\n",
        "optim_Q_gen = torch.optim.Adam(Q.parameters(), lr= reg_lr)\n",
        "optim_D = torch.optim.Adam(D_gauss.parameters(), lr = reg_lr)"
      ],
      "execution_count": 89,
      "outputs": []
    },
    {
      "cell_type": "code",
      "metadata": {
        "id": "NKG4l6KNx06x"
      },
      "source": [
        "import tqdm\n",
        "from tqdm import tqdm_notebook"
      ],
      "execution_count": 107,
      "outputs": []
    },
    {
      "cell_type": "code",
      "metadata": {
        "id": "wwP9mkjZU9l1"
      },
      "source": [
        "def train_model(train_loader, Q, P, D_gauss, num_epochs):\n",
        "\n",
        "  rec_loss = []\n",
        "  discr_loss = []\n",
        "  gen_loss = []\n",
        "\n",
        "  optim_P = torch.optim.Adam(P.parameters(), lr = generative_lr)\n",
        "  optim_Q_enc = torch.optim.Adam(Q.parameters(),lr = generative_lr)\n",
        "  optim_Q_gen = torch.optim.Adam(Q.parameters(), lr= reg_lr)\n",
        "  optim_D = torch.optim.Adam(D_gauss.parameters(), lr = reg_lr)\n",
        "\n",
        "  \n",
        "\n",
        "  for epoch in range(num_epochs):\n",
        "    Q.train()\n",
        "    P.train()\n",
        "    D_gauss.train()\n",
        " \n",
        "    for data,_ in tqdm_notebook(train_loader):\n",
        "      P.zero_grad()\n",
        "      Q.zero_grad()\n",
        "      D_gauss.zero_grad()\n",
        "\n",
        "      # reconstruction loss\n",
        "      z_sample = Q(data)\n",
        "      x_sample = P(z_sample)\n",
        "\n",
        "      data_ = torch.tensor([])\n",
        "      for each_vector in data:\n",
        "        data_ = torch.cat([data_,each_vector[0].view(-1,784)])\n",
        "      #print(data_[0], x_sample[0])\n",
        "\n",
        "\n",
        "      recon_loss = F.binary_cross_entropy(x_sample + EPS, data_ + EPS)\n",
        "      rec_loss.append(recon_loss.item())\n",
        "\n",
        "      recon_loss.backward()\n",
        "      optim_P.step()\n",
        "      optim_Q_enc.step()\n",
        "\n",
        "      # discriminator\n",
        "      Q.eval()\n",
        "      z_real_gauss = torch.randn(BATCH_SIZE,z_dims)\n",
        "      D_real_gauss = D_gauss(z_real_gauss)\n",
        "\n",
        "      z_fake_gauss = Q(data)\n",
        "      D_fake_gauss = D_gauss(z_fake_gauss)\n",
        "      #print(D_real_gauss.shape,D_fake_gauss.shape)\n",
        "\n",
        "      D_loss = - torch.mean(torch.log(D_real_gauss + EPS) + torch.log(1 - D_fake_gauss + EPS))\n",
        "      discr_loss.append(D_loss)\n",
        "      D_loss.backward()\n",
        "      optim_D.step()\n",
        "\n",
        "      # generator\n",
        "      Q.train()\n",
        "      z_fake_gauss = Q(data)\n",
        "      #print(z_fake_gauss.shape) == [8,120]\n",
        "      D_fake_gauss = D_gauss(z_fake_gauss)\n",
        "      #print(D_fake_gauss.shape) == [8,1]\n",
        "      G_loss = - torch.mean(torch.log(D_fake_gauss + EPS))\n",
        "      gen_loss.append(G_loss)\n",
        "      G_loss.backward()\n",
        "      optim_Q_gen.step()\n",
        "\n",
        "  return rec_loss, discr_loss, gen_loss\n"
      ],
      "execution_count": 108,
      "outputs": []
    },
    {
      "cell_type": "code",
      "metadata": {
        "id": "1F4du_xGc3xM",
        "outputId": "7541b854-1d29-4035-b77d-6693a51f2c5d",
        "colab": {
          "base_uri": "https://localhost:8080/",
          "height": 100,
          "referenced_widgets": [
            "1e43cccc5ab348d287f2866e02f5f2a5",
            "ef8339a6e558400aba1d8f36415c5a5f",
            "c86b982556304fef9eee058aa0faf6b0",
            "48ab8ee45c004cf1bfecdf73d405c1c3",
            "6965cb447cd94ba68b1d135df7635367",
            "8fe4380ffa4146429ed3e1efbeda1f09",
            "2558f9e1a84d4fa686e9d20d221ef590",
            "f6d6ee753fac40cfa0729c6c6e5ee0e0"
          ]
        }
      },
      "source": [
        "rec_loss, discr_loss, gen_loss = train_model(train_loader, Q ,P, D_gauss,1)"
      ],
      "execution_count": 109,
      "outputs": [
        {
          "output_type": "stream",
          "text": [
            "/usr/local/lib/python3.6/dist-packages/ipykernel_launcher.py:19: TqdmDeprecationWarning: This function will be removed in tqdm==5.0.0\n",
            "Please use `tqdm.notebook.tqdm` instead of `tqdm.tqdm_notebook`\n"
          ],
          "name": "stderr"
        },
        {
          "output_type": "display_data",
          "data": {
            "application/vnd.jupyter.widget-view+json": {
              "model_id": "1e43cccc5ab348d287f2866e02f5f2a5",
              "version_minor": 0,
              "version_major": 2
            },
            "text/plain": [
              "HBox(children=(FloatProgress(value=0.0, max=7500.0), HTML(value='')))"
            ]
          },
          "metadata": {
            "tags": []
          }
        },
        {
          "output_type": "stream",
          "text": [
            "\n"
          ],
          "name": "stdout"
        }
      ]
    },
    {
      "cell_type": "code",
      "metadata": {
        "id": "3_nS293A1Y_Z",
        "outputId": "4580388b-6c62-46e8-a523-62825e0329bc",
        "colab": {
          "base_uri": "https://localhost:8080/",
          "height": 374
        }
      },
      "source": [
        "fig,ax = plt.subplots(3,1,figsize=(10,6))\n",
        "ax[0].plot(rec_loss)\n",
        "ax[1].plot(discr_loss,color='magenta')\n",
        "ax[2].plot(gen_loss,color='darkorange')\n",
        "plt.show()"
      ],
      "execution_count": 122,
      "outputs": [
        {
          "output_type": "display_data",
          "data": {
            "image/png": "[encoded data removed]",
            "text/plain": [
              "<Figure size 720x432 with 3 Axes>"
            ]
          },
          "metadata": {
            "tags": [],
            "needs_background": "light"
          }
        }
      ]
    },
    {
      "cell_type": "markdown",
      "metadata": {
        "id": "dBIQPDs-4hNP"
      },
      "source": [
        "https://github.com/bfarzin/pytorch_aae/blob/master/main_aae.py\n",
        "\n",
        "https://blog.paperspace.com/adversarial-autoencoders-with-pytorch/\n"
      ]
    }
  ]
}