{
  "nbformat": 4,
  "nbformat_minor": 0,
  "metadata": {
    "colab": {
      "name": "AAE.ipynb",
      "provenance": []
    },
    "kernelspec": {
      "name": "python3",
      "display_name": "Python 3"
    },
    "widgets": {
      "application/vnd.jupyter.widget-state+json": {
        "708a65a002684d8fba4a9d79c9ebeb6d": {
          "model_module": "@jupyter-widgets/controls",
          "model_name": "HBoxModel",
          "state": {
            "_view_name": "HBoxView",
            "_dom_classes": [],
            "_model_name": "HBoxModel",
            "_view_module": "@jupyter-widgets/controls",
            "_model_module_version": "1.5.0",
            "_view_count": null,
            "_view_module_version": "1.5.0",
            "box_style": "",
            "layout": "IPY_MODEL_268b50a5c3344f6ca91349cc24c99406",
            "_model_module": "@jupyter-widgets/controls",
            "children": [
              "IPY_MODEL_4da13e3838364a2da0229d93faa09451",
              "IPY_MODEL_5f86145f14114eb5903aad0dd09fdcea"
            ]
          }
        },
        "268b50a5c3344f6ca91349cc24c99406": {
          "model_module": "@jupyter-widgets/base",
          "model_name": "LayoutModel",
          "state": {
            "_view_name": "LayoutView",
            "grid_template_rows": null,
            "right": null,
            "justify_content": null,
            "_view_module": "@jupyter-widgets/base",
            "overflow": null,
            "_model_module_version": "1.2.0",
            "_view_count": null,
            "flex_flow": null,
            "width": null,
            "min_width": null,
            "border": null,
            "align_items": null,
            "bottom": null,
            "_model_module": "@jupyter-widgets/base",
            "top": null,
            "grid_column": null,
            "overflow_y": null,
            "overflow_x": null,
            "grid_auto_flow": null,
            "grid_area": null,
            "grid_template_columns": null,
            "flex": null,
            "_model_name": "LayoutModel",
            "justify_items": null,
            "grid_row": null,
            "max_height": null,
            "align_content": null,
            "visibility": null,
            "align_self": null,
            "height": null,
            "min_height": null,
            "padding": null,
            "grid_auto_rows": null,
            "grid_gap": null,
            "max_width": null,
            "order": null,
            "_view_module_version": "1.2.0",
            "grid_template_areas": null,
            "object_position": null,
            "object_fit": null,
            "grid_auto_columns": null,
            "margin": null,
            "display": null,
            "left": null
          }
        },
        "4da13e3838364a2da0229d93faa09451": {
          "model_module": "@jupyter-widgets/controls",
          "model_name": "FloatProgressModel",
          "state": {
            "_view_name": "ProgressView",
            "style": "IPY_MODEL_8cb34050c2eb47c48e8a1fab6feb940e",
            "_dom_classes": [],
            "description": "100%",
            "_model_name": "FloatProgressModel",
            "bar_style": "success",
            "max": 1875,
            "_view_module": "@jupyter-widgets/controls",
            "_model_module_version": "1.5.0",
            "value": 1875,
            "_view_count": null,
            "_view_module_version": "1.5.0",
            "orientation": "horizontal",
            "min": 0,
            "description_tooltip": null,
            "_model_module": "@jupyter-widgets/controls",
            "layout": "IPY_MODEL_1e60a233483042d393583b0270ab5eac"
          }
        },
        "5f86145f14114eb5903aad0dd09fdcea": {
          "model_module": "@jupyter-widgets/controls",
          "model_name": "HTMLModel",
          "state": {
            "_view_name": "HTMLView",
            "style": "IPY_MODEL_b4ffc707f980443cac35b19c38186932",
            "_dom_classes": [],
            "description": "",
            "_model_name": "HTMLModel",
            "placeholder": "​",
            "_view_module": "@jupyter-widgets/controls",
            "_model_module_version": "1.5.0",
            "value": " 1875/1875 [07:34&lt;00:00,  4.13it/s]",
            "_view_count": null,
            "_view_module_version": "1.5.0",
            "description_tooltip": null,
            "_model_module": "@jupyter-widgets/controls",
            "layout": "IPY_MODEL_93bf9e56eb4048db8ab7dec2fd44b1ca"
          }
        },
        "8cb34050c2eb47c48e8a1fab6feb940e": {
          "model_module": "@jupyter-widgets/controls",
          "model_name": "ProgressStyleModel",
          "state": {
            "_view_name": "StyleView",
            "_model_name": "ProgressStyleModel",
            "description_width": "initial",
            "_view_module": "@jupyter-widgets/base",
            "_model_module_version": "1.5.0",
            "_view_count": null,
            "_view_module_version": "1.2.0",
            "bar_color": null,
            "_model_module": "@jupyter-widgets/controls"
          }
        },
        "1e60a233483042d393583b0270ab5eac": {
          "model_module": "@jupyter-widgets/base",
          "model_name": "LayoutModel",
          "state": {
            "_view_name": "LayoutView",
            "grid_template_rows": null,
            "right": null,
            "justify_content": null,
            "_view_module": "@jupyter-widgets/base",
            "overflow": null,
            "_model_module_version": "1.2.0",
            "_view_count": null,
            "flex_flow": null,
            "width": null,
            "min_width": null,
            "border": null,
            "align_items": null,
            "bottom": null,
            "_model_module": "@jupyter-widgets/base",
            "top": null,
            "grid_column": null,
            "overflow_y": null,
            "overflow_x": null,
            "grid_auto_flow": null,
            "grid_area": null,
            "grid_template_columns": null,
            "flex": null,
            "_model_name": "LayoutModel",
            "justify_items": null,
            "grid_row": null,
            "max_height": null,
            "align_content": null,
            "visibility": null,
            "align_self": null,
            "height": null,
            "min_height": null,
            "padding": null,
            "grid_auto_rows": null,
            "grid_gap": null,
            "max_width": null,
            "order": null,
            "_view_module_version": "1.2.0",
            "grid_template_areas": null,
            "object_position": null,
            "object_fit": null,
            "grid_auto_columns": null,
            "margin": null,
            "display": null,
            "left": null
          }
        },
        "b4ffc707f980443cac35b19c38186932": {
          "model_module": "@jupyter-widgets/controls",
          "model_name": "DescriptionStyleModel",
          "state": {
            "_view_name": "StyleView",
            "_model_name": "DescriptionStyleModel",
            "description_width": "",
            "_view_module": "@jupyter-widgets/base",
            "_model_module_version": "1.5.0",
            "_view_count": null,
            "_view_module_version": "1.2.0",
            "_model_module": "@jupyter-widgets/controls"
          }
        },
        "93bf9e56eb4048db8ab7dec2fd44b1ca": {
          "model_module": "@jupyter-widgets/base",
          "model_name": "LayoutModel",
          "state": {
            "_view_name": "LayoutView",
            "grid_template_rows": null,
            "right": null,
            "justify_content": null,
            "_view_module": "@jupyter-widgets/base",
            "overflow": null,
            "_model_module_version": "1.2.0",
            "_view_count": null,
            "flex_flow": null,
            "width": null,
            "min_width": null,
            "border": null,
            "align_items": null,
            "bottom": null,
            "_model_module": "@jupyter-widgets/base",
            "top": null,
            "grid_column": null,
            "overflow_y": null,
            "overflow_x": null,
            "grid_auto_flow": null,
            "grid_area": null,
            "grid_template_columns": null,
            "flex": null,
            "_model_name": "LayoutModel",
            "justify_items": null,
            "grid_row": null,
            "max_height": null,
            "align_content": null,
            "visibility": null,
            "align_self": null,
            "height": null,
            "min_height": null,
            "padding": null,
            "grid_auto_rows": null,
            "grid_gap": null,
            "max_width": null,
            "order": null,
            "_view_module_version": "1.2.0",
            "grid_template_areas": null,
            "object_position": null,
            "object_fit": null,
            "grid_auto_columns": null,
            "margin": null,
            "display": null,
            "left": null
          }
        },
        "bfd53828049447b7b1c526e9a901a015": {
          "model_module": "@jupyter-widgets/controls",
          "model_name": "HBoxModel",
          "state": {
            "_view_name": "HBoxView",
            "_dom_classes": [],
            "_model_name": "HBoxModel",
            "_view_module": "@jupyter-widgets/controls",
            "_model_module_version": "1.5.0",
            "_view_count": null,
            "_view_module_version": "1.5.0",
            "box_style": "",
            "layout": "IPY_MODEL_da890af1cdfb41c0b73b505166d8aaaf",
            "_model_module": "@jupyter-widgets/controls",
            "children": [
              "IPY_MODEL_402be6ecd03147639ac56165f9865ac7",
              "IPY_MODEL_de435125db144accac9c9b7d890d7f70"
            ]
          }
        },
        "da890af1cdfb41c0b73b505166d8aaaf": {
          "model_module": "@jupyter-widgets/base",
          "model_name": "LayoutModel",
          "state": {
            "_view_name": "LayoutView",
            "grid_template_rows": null,
            "right": null,
            "justify_content": null,
            "_view_module": "@jupyter-widgets/base",
            "overflow": null,
            "_model_module_version": "1.2.0",
            "_view_count": null,
            "flex_flow": null,
            "width": null,
            "min_width": null,
            "border": null,
            "align_items": null,
            "bottom": null,
            "_model_module": "@jupyter-widgets/base",
            "top": null,
            "grid_column": null,
            "overflow_y": null,
            "overflow_x": null,
            "grid_auto_flow": null,
            "grid_area": null,
            "grid_template_columns": null,
            "flex": null,
            "_model_name": "LayoutModel",
            "justify_items": null,
            "grid_row": null,
            "max_height": null,
            "align_content": null,
            "visibility": null,
            "align_self": null,
            "height": null,
            "min_height": null,
            "padding": null,
            "grid_auto_rows": null,
            "grid_gap": null,
            "max_width": null,
            "order": null,
            "_view_module_version": "1.2.0",
            "grid_template_areas": null,
            "object_position": null,
            "object_fit": null,
            "grid_auto_columns": null,
            "margin": null,
            "display": null,
            "left": null
          }
        },
        "402be6ecd03147639ac56165f9865ac7": {
          "model_module": "@jupyter-widgets/controls",
          "model_name": "FloatProgressModel",
          "state": {
            "_view_name": "ProgressView",
            "style": "IPY_MODEL_bea950d77cd84be08a89c3249079e0e3",
            "_dom_classes": [],
            "description": "100%",
            "_model_name": "FloatProgressModel",
            "bar_style": "success",
            "max": 1875,
            "_view_module": "@jupyter-widgets/controls",
            "_model_module_version": "1.5.0",
            "value": 1875,
            "_view_count": null,
            "_view_module_version": "1.5.0",
            "orientation": "horizontal",
            "min": 0,
            "description_tooltip": null,
            "_model_module": "@jupyter-widgets/controls",
            "layout": "IPY_MODEL_b24f8bcf5ddf4fd1bc7202026da24efa"
          }
        },
        "de435125db144accac9c9b7d890d7f70": {
          "model_module": "@jupyter-widgets/controls",
          "model_name": "HTMLModel",
          "state": {
            "_view_name": "HTMLView",
            "style": "IPY_MODEL_f90a382bdb74409cb83be6fcc4bdaa21",
            "_dom_classes": [],
            "description": "",
            "_model_name": "HTMLModel",
            "placeholder": "​",
            "_view_module": "@jupyter-widgets/controls",
            "_model_module_version": "1.5.0",
            "value": " 1875/1875 [18:56&lt;00:00,  1.65it/s]",
            "_view_count": null,
            "_view_module_version": "1.5.0",
            "description_tooltip": null,
            "_model_module": "@jupyter-widgets/controls",
            "layout": "IPY_MODEL_2148b6696955485a83a851d094e8e604"
          }
        },
        "bea950d77cd84be08a89c3249079e0e3": {
          "model_module": "@jupyter-widgets/controls",
          "model_name": "ProgressStyleModel",
          "state": {
            "_view_name": "StyleView",
            "_model_name": "ProgressStyleModel",
            "description_width": "initial",
            "_view_module": "@jupyter-widgets/base",
            "_model_module_version": "1.5.0",
            "_view_count": null,
            "_view_module_version": "1.2.0",
            "bar_color": null,
            "_model_module": "@jupyter-widgets/controls"
          }
        },
        "b24f8bcf5ddf4fd1bc7202026da24efa": {
          "model_module": "@jupyter-widgets/base",
          "model_name": "LayoutModel",
          "state": {
            "_view_name": "LayoutView",
            "grid_template_rows": null,
            "right": null,
            "justify_content": null,
            "_view_module": "@jupyter-widgets/base",
            "overflow": null,
            "_model_module_version": "1.2.0",
            "_view_count": null,
            "flex_flow": null,
            "width": null,
            "min_width": null,
            "border": null,
            "align_items": null,
            "bottom": null,
            "_model_module": "@jupyter-widgets/base",
            "top": null,
            "grid_column": null,
            "overflow_y": null,
            "overflow_x": null,
            "grid_auto_flow": null,
            "grid_area": null,
            "grid_template_columns": null,
            "flex": null,
            "_model_name": "LayoutModel",
            "justify_items": null,
            "grid_row": null,
            "max_height": null,
            "align_content": null,
            "visibility": null,
            "align_self": null,
            "height": null,
            "min_height": null,
            "padding": null,
            "grid_auto_rows": null,
            "grid_gap": null,
            "max_width": null,
            "order": null,
            "_view_module_version": "1.2.0",
            "grid_template_areas": null,
            "object_position": null,
            "object_fit": null,
            "grid_auto_columns": null,
            "margin": null,
            "display": null,
            "left": null
          }
        },
        "f90a382bdb74409cb83be6fcc4bdaa21": {
          "model_module": "@jupyter-widgets/controls",
          "model_name": "DescriptionStyleModel",
          "state": {
            "_view_name": "StyleView",
            "_model_name": "DescriptionStyleModel",
            "description_width": "",
            "_view_module": "@jupyter-widgets/base",
            "_model_module_version": "1.5.0",
            "_view_count": null,
            "_view_module_version": "1.2.0",
            "_model_module": "@jupyter-widgets/controls"
          }
        },
        "2148b6696955485a83a851d094e8e604": {
          "model_module": "@jupyter-widgets/base",
          "model_name": "LayoutModel",
          "state": {
            "_view_name": "LayoutView",
            "grid_template_rows": null,
            "right": null,
            "justify_content": null,
            "_view_module": "@jupyter-widgets/base",
            "overflow": null,
            "_model_module_version": "1.2.0",
            "_view_count": null,
            "flex_flow": null,
            "width": null,
            "min_width": null,
            "border": null,
            "align_items": null,
            "bottom": null,
            "_model_module": "@jupyter-widgets/base",
            "top": null,
            "grid_column": null,
            "overflow_y": null,
            "overflow_x": null,
            "grid_auto_flow": null,
            "grid_area": null,
            "grid_template_columns": null,
            "flex": null,
            "_model_name": "LayoutModel",
            "justify_items": null,
            "grid_row": null,
            "max_height": null,
            "align_content": null,
            "visibility": null,
            "align_self": null,
            "height": null,
            "min_height": null,
            "padding": null,
            "grid_auto_rows": null,
            "grid_gap": null,
            "max_width": null,
            "order": null,
            "_view_module_version": "1.2.0",
            "grid_template_areas": null,
            "object_position": null,
            "object_fit": null,
            "grid_auto_columns": null,
            "margin": null,
            "display": null,
            "left": null
          }
        },
        "aa3d9bb7c38a4bba88a97336cd9c1a5d": {
          "model_module": "@jupyter-widgets/controls",
          "model_name": "HBoxModel",
          "state": {
            "_view_name": "HBoxView",
            "_dom_classes": [],
            "_model_name": "HBoxModel",
            "_view_module": "@jupyter-widgets/controls",
            "_model_module_version": "1.5.0",
            "_view_count": null,
            "_view_module_version": "1.5.0",
            "box_style": "",
            "layout": "IPY_MODEL_ce7e92c2a293438aa0f6ea3ef4db4957",
            "_model_module": "@jupyter-widgets/controls",
            "children": [
              "IPY_MODEL_f87d27de9d144bf394a4d13cadc24237",
              "IPY_MODEL_3c92b9ea044743f4950dfb8453b478b3"
            ]
          }
        },
        "ce7e92c2a293438aa0f6ea3ef4db4957": {
          "model_module": "@jupyter-widgets/base",
          "model_name": "LayoutModel",
          "state": {
            "_view_name": "LayoutView",
            "grid_template_rows": null,
            "right": null,
            "justify_content": null,
            "_view_module": "@jupyter-widgets/base",
            "overflow": null,
            "_model_module_version": "1.2.0",
            "_view_count": null,
            "flex_flow": null,
            "width": null,
            "min_width": null,
            "border": null,
            "align_items": null,
            "bottom": null,
            "_model_module": "@jupyter-widgets/base",
            "top": null,
            "grid_column": null,
            "overflow_y": null,
            "overflow_x": null,
            "grid_auto_flow": null,
            "grid_area": null,
            "grid_template_columns": null,
            "flex": null,
            "_model_name": "LayoutModel",
            "justify_items": null,
            "grid_row": null,
            "max_height": null,
            "align_content": null,
            "visibility": null,
            "align_self": null,
            "height": null,
            "min_height": null,
            "padding": null,
            "grid_auto_rows": null,
            "grid_gap": null,
            "max_width": null,
            "order": null,
            "_view_module_version": "1.2.0",
            "grid_template_areas": null,
            "object_position": null,
            "object_fit": null,
            "grid_auto_columns": null,
            "margin": null,
            "display": null,
            "left": null
          }
        },
        "f87d27de9d144bf394a4d13cadc24237": {
          "model_module": "@jupyter-widgets/controls",
          "model_name": "FloatProgressModel",
          "state": {
            "_view_name": "ProgressView",
            "style": "IPY_MODEL_3c1d41af635e4bc397e949ad2eb9edb5",
            "_dom_classes": [],
            "description": "100%",
            "_model_name": "FloatProgressModel",
            "bar_style": "success",
            "max": 1875,
            "_view_module": "@jupyter-widgets/controls",
            "_model_module_version": "1.5.0",
            "value": 1875,
            "_view_count": null,
            "_view_module_version": "1.5.0",
            "orientation": "horizontal",
            "min": 0,
            "description_tooltip": null,
            "_model_module": "@jupyter-widgets/controls",
            "layout": "IPY_MODEL_7a689d4c5b8348338f0b4ee8ac9d7a32"
          }
        },
        "3c92b9ea044743f4950dfb8453b478b3": {
          "model_module": "@jupyter-widgets/controls",
          "model_name": "HTMLModel",
          "state": {
            "_view_name": "HTMLView",
            "style": "IPY_MODEL_e79e60dd65e34f49bdfe7db54688cb85",
            "_dom_classes": [],
            "description": "",
            "_model_name": "HTMLModel",
            "placeholder": "​",
            "_view_module": "@jupyter-widgets/controls",
            "_model_module_version": "1.5.0",
            "value": " 1875/1875 [08:07&lt;00:00,  3.85it/s]",
            "_view_count": null,
            "_view_module_version": "1.5.0",
            "description_tooltip": null,
            "_model_module": "@jupyter-widgets/controls",
            "layout": "IPY_MODEL_d1c7bb0b90404b1ab5c98046bb1fde92"
          }
        },
        "3c1d41af635e4bc397e949ad2eb9edb5": {
          "model_module": "@jupyter-widgets/controls",
          "model_name": "ProgressStyleModel",
          "state": {
            "_view_name": "StyleView",
            "_model_name": "ProgressStyleModel",
            "description_width": "initial",
            "_view_module": "@jupyter-widgets/base",
            "_model_module_version": "1.5.0",
            "_view_count": null,
            "_view_module_version": "1.2.0",
            "bar_color": null,
            "_model_module": "@jupyter-widgets/controls"
          }
        },
        "7a689d4c5b8348338f0b4ee8ac9d7a32": {
          "model_module": "@jupyter-widgets/base",
          "model_name": "LayoutModel",
          "state": {
            "_view_name": "LayoutView",
            "grid_template_rows": null,
            "right": null,
            "justify_content": null,
            "_view_module": "@jupyter-widgets/base",
            "overflow": null,
            "_model_module_version": "1.2.0",
            "_view_count": null,
            "flex_flow": null,
            "width": null,
            "min_width": null,
            "border": null,
            "align_items": null,
            "bottom": null,
            "_model_module": "@jupyter-widgets/base",
            "top": null,
            "grid_column": null,
            "overflow_y": null,
            "overflow_x": null,
            "grid_auto_flow": null,
            "grid_area": null,
            "grid_template_columns": null,
            "flex": null,
            "_model_name": "LayoutModel",
            "justify_items": null,
            "grid_row": null,
            "max_height": null,
            "align_content": null,
            "visibility": null,
            "align_self": null,
            "height": null,
            "min_height": null,
            "padding": null,
            "grid_auto_rows": null,
            "grid_gap": null,
            "max_width": null,
            "order": null,
            "_view_module_version": "1.2.0",
            "grid_template_areas": null,
            "object_position": null,
            "object_fit": null,
            "grid_auto_columns": null,
            "margin": null,
            "display": null,
            "left": null
          }
        },
        "e79e60dd65e34f49bdfe7db54688cb85": {
          "model_module": "@jupyter-widgets/controls",
          "model_name": "DescriptionStyleModel",
          "state": {
            "_view_name": "StyleView",
            "_model_name": "DescriptionStyleModel",
            "description_width": "",
            "_view_module": "@jupyter-widgets/base",
            "_model_module_version": "1.5.0",
            "_view_count": null,
            "_view_module_version": "1.2.0",
            "_model_module": "@jupyter-widgets/controls"
          }
        },
        "d1c7bb0b90404b1ab5c98046bb1fde92": {
          "model_module": "@jupyter-widgets/base",
          "model_name": "LayoutModel",
          "state": {
            "_view_name": "LayoutView",
            "grid_template_rows": null,
            "right": null,
            "justify_content": null,
            "_view_module": "@jupyter-widgets/base",
            "overflow": null,
            "_model_module_version": "1.2.0",
            "_view_count": null,
            "flex_flow": null,
            "width": null,
            "min_width": null,
            "border": null,
            "align_items": null,
            "bottom": null,
            "_model_module": "@jupyter-widgets/base",
            "top": null,
            "grid_column": null,
            "overflow_y": null,
            "overflow_x": null,
            "grid_auto_flow": null,
            "grid_area": null,
            "grid_template_columns": null,
            "flex": null,
            "_model_name": "LayoutModel",
            "justify_items": null,
            "grid_row": null,
            "max_height": null,
            "align_content": null,
            "visibility": null,
            "align_self": null,
            "height": null,
            "min_height": null,
            "padding": null,
            "grid_auto_rows": null,
            "grid_gap": null,
            "max_width": null,
            "order": null,
            "_view_module_version": "1.2.0",
            "grid_template_areas": null,
            "object_position": null,
            "object_fit": null,
            "grid_auto_columns": null,
            "margin": null,
            "display": null,
            "left": null
          }
        },
        "a1dd156d49074daabb1ceae97bdfb2a0": {
          "model_module": "@jupyter-widgets/controls",
          "model_name": "HBoxModel",
          "state": {
            "_view_name": "HBoxView",
            "_dom_classes": [],
            "_model_name": "HBoxModel",
            "_view_module": "@jupyter-widgets/controls",
            "_model_module_version": "1.5.0",
            "_view_count": null,
            "_view_module_version": "1.5.0",
            "box_style": "",
            "layout": "IPY_MODEL_313208375c284442b7bc3d7479ccfcab",
            "_model_module": "@jupyter-widgets/controls",
            "children": [
              "IPY_MODEL_0794a46b80344a85a127431d0cb38de4",
              "IPY_MODEL_fea12c30ae9d4b4697fbcd19b7edb437"
            ]
          }
        },
        "313208375c284442b7bc3d7479ccfcab": {
          "model_module": "@jupyter-widgets/base",
          "model_name": "LayoutModel",
          "state": {
            "_view_name": "LayoutView",
            "grid_template_rows": null,
            "right": null,
            "justify_content": null,
            "_view_module": "@jupyter-widgets/base",
            "overflow": null,
            "_model_module_version": "1.2.0",
            "_view_count": null,
            "flex_flow": null,
            "width": null,
            "min_width": null,
            "border": null,
            "align_items": null,
            "bottom": null,
            "_model_module": "@jupyter-widgets/base",
            "top": null,
            "grid_column": null,
            "overflow_y": null,
            "overflow_x": null,
            "grid_auto_flow": null,
            "grid_area": null,
            "grid_template_columns": null,
            "flex": null,
            "_model_name": "LayoutModel",
            "justify_items": null,
            "grid_row": null,
            "max_height": null,
            "align_content": null,
            "visibility": null,
            "align_self": null,
            "height": null,
            "min_height": null,
            "padding": null,
            "grid_auto_rows": null,
            "grid_gap": null,
            "max_width": null,
            "order": null,
            "_view_module_version": "1.2.0",
            "grid_template_areas": null,
            "object_position": null,
            "object_fit": null,
            "grid_auto_columns": null,
            "margin": null,
            "display": null,
            "left": null
          }
        },
        "0794a46b80344a85a127431d0cb38de4": {
          "model_module": "@jupyter-widgets/controls",
          "model_name": "FloatProgressModel",
          "state": {
            "_view_name": "ProgressView",
            "style": "IPY_MODEL_6ebf26b8f2244462b50e776759913eeb",
            "_dom_classes": [],
            "description": "100%",
            "_model_name": "FloatProgressModel",
            "bar_style": "success",
            "max": 1875,
            "_view_module": "@jupyter-widgets/controls",
            "_model_module_version": "1.5.0",
            "value": 1875,
            "_view_count": null,
            "_view_module_version": "1.5.0",
            "orientation": "horizontal",
            "min": 0,
            "description_tooltip": null,
            "_model_module": "@jupyter-widgets/controls",
            "layout": "IPY_MODEL_e5d41f4496ad45079c857c56be296bdf"
          }
        },
        "fea12c30ae9d4b4697fbcd19b7edb437": {
          "model_module": "@jupyter-widgets/controls",
          "model_name": "HTMLModel",
          "state": {
            "_view_name": "HTMLView",
            "style": "IPY_MODEL_56bd4ea66a0b410bbdf9b239a71f7bfc",
            "_dom_classes": [],
            "description": "",
            "_model_name": "HTMLModel",
            "placeholder": "​",
            "_view_module": "@jupyter-widgets/controls",
            "_model_module_version": "1.5.0",
            "value": " 1875/1875 [08:09&lt;00:00,  3.83it/s]",
            "_view_count": null,
            "_view_module_version": "1.5.0",
            "description_tooltip": null,
            "_model_module": "@jupyter-widgets/controls",
            "layout": "IPY_MODEL_c9150e9cdd014f129daf5a8f806b0d82"
          }
        },
        "6ebf26b8f2244462b50e776759913eeb": {
          "model_module": "@jupyter-widgets/controls",
          "model_name": "ProgressStyleModel",
          "state": {
            "_view_name": "StyleView",
            "_model_name": "ProgressStyleModel",
            "description_width": "initial",
            "_view_module": "@jupyter-widgets/base",
            "_model_module_version": "1.5.0",
            "_view_count": null,
            "_view_module_version": "1.2.0",
            "bar_color": null,
            "_model_module": "@jupyter-widgets/controls"
          }
        },
        "e5d41f4496ad45079c857c56be296bdf": {
          "model_module": "@jupyter-widgets/base",
          "model_name": "LayoutModel",
          "state": {
            "_view_name": "LayoutView",
            "grid_template_rows": null,
            "right": null,
            "justify_content": null,
            "_view_module": "@jupyter-widgets/base",
            "overflow": null,
            "_model_module_version": "1.2.0",
            "_view_count": null,
            "flex_flow": null,
            "width": null,
            "min_width": null,
            "border": null,
            "align_items": null,
            "bottom": null,
            "_model_module": "@jupyter-widgets/base",
            "top": null,
            "grid_column": null,
            "overflow_y": null,
            "overflow_x": null,
            "grid_auto_flow": null,
            "grid_area": null,
            "grid_template_columns": null,
            "flex": null,
            "_model_name": "LayoutModel",
            "justify_items": null,
            "grid_row": null,
            "max_height": null,
            "align_content": null,
            "visibility": null,
            "align_self": null,
            "height": null,
            "min_height": null,
            "padding": null,
            "grid_auto_rows": null,
            "grid_gap": null,
            "max_width": null,
            "order": null,
            "_view_module_version": "1.2.0",
            "grid_template_areas": null,
            "object_position": null,
            "object_fit": null,
            "grid_auto_columns": null,
            "margin": null,
            "display": null,
            "left": null
          }
        },
        "56bd4ea66a0b410bbdf9b239a71f7bfc": {
          "model_module": "@jupyter-widgets/controls",
          "model_name": "DescriptionStyleModel",
          "state": {
            "_view_name": "StyleView",
            "_model_name": "DescriptionStyleModel",
            "description_width": "",
            "_view_module": "@jupyter-widgets/base",
            "_model_module_version": "1.5.0",
            "_view_count": null,
            "_view_module_version": "1.2.0",
            "_model_module": "@jupyter-widgets/controls"
          }
        },
        "c9150e9cdd014f129daf5a8f806b0d82": {
          "model_module": "@jupyter-widgets/base",
          "model_name": "LayoutModel",
          "state": {
            "_view_name": "LayoutView",
            "grid_template_rows": null,
            "right": null,
            "justify_content": null,
            "_view_module": "@jupyter-widgets/base",
            "overflow": null,
            "_model_module_version": "1.2.0",
            "_view_count": null,
            "flex_flow": null,
            "width": null,
            "min_width": null,
            "border": null,
            "align_items": null,
            "bottom": null,
            "_model_module": "@jupyter-widgets/base",
            "top": null,
            "grid_column": null,
            "overflow_y": null,
            "overflow_x": null,
            "grid_auto_flow": null,
            "grid_area": null,
            "grid_template_columns": null,
            "flex": null,
            "_model_name": "LayoutModel",
            "justify_items": null,
            "grid_row": null,
            "max_height": null,
            "align_content": null,
            "visibility": null,
            "align_self": null,
            "height": null,
            "min_height": null,
            "padding": null,
            "grid_auto_rows": null,
            "grid_gap": null,
            "max_width": null,
            "order": null,
            "_view_module_version": "1.2.0",
            "grid_template_areas": null,
            "object_position": null,
            "object_fit": null,
            "grid_auto_columns": null,
            "margin": null,
            "display": null,
            "left": null
          }
        }
      }
    }
  },
  "cells": [
    {
      "cell_type": "markdown",
      "metadata": {
        "id": "VMhnFe4xExS7"
      },
      "source": [
        "Adversarial Autoencoder"
      ]
    },
    {
      "cell_type": "markdown",
      "metadata": {
        "id": "KiENpD8RMQpE"
      },
      "source": [
        "Kolesov Alexandr m05-004"
      ]
    },
    {
      "cell_type": "code",
      "metadata": {
        "id": "3xlrMbOvEtoq"
      },
      "source": [
        "import torch \n",
        "import torch.nn as nn\n",
        "import torch.nn.functional as F\n",
        "import torch.utils.data as data\n",
        "import torch.distributions as distributions\n",
        "import torchvision\n",
        "import torchvision.transforms as transforms\n",
        "from torch.autograd import Variable\n",
        "\n",
        "import numpy as np\n",
        "import scipy.stats as sps\n",
        "import matplotlib.pyplot as plt\n",
        "%matplotlib inline"
      ],
      "execution_count": 1,
      "outputs": []
    },
    {
      "cell_type": "code",
      "metadata": {
        "id": "BBhcMki9G7nr"
      },
      "source": [
        "BATCH_SIZE = 32\n",
        "EPOCHS = 4\n",
        "generative_lr = 1e-3\n",
        "reg_lr = 5*1e-4\n",
        "EPS = 1e-15"
      ],
      "execution_count": 53,
      "outputs": []
    },
    {
      "cell_type": "code",
      "metadata": {
        "id": "3PQdCOx-FKx9"
      },
      "source": [
        "transform = transforms.Compose([transforms.ToTensor()])\n",
        "train_data = torchvision.datasets.MNIST(root='./data',train = True, download=True, transform= transform)\n",
        "test_data = torchvision.datasets.MNIST(root='/data',train = False, download = True,transform = transforms)\n",
        "train_loader = data.DataLoader(dataset = train_data, batch_size = BATCH_SIZE, shuffle= True)\n",
        "test_loader = data.DataLoader(dataset= test_data, batch_size= BATCH_SIZE, shuffle= False)"
      ],
      "execution_count": 54,
      "outputs": []
    },
    {
      "cell_type": "code",
      "metadata": {
        "id": "zMswjoSQIOO4"
      },
      "source": [
        "def plot_tensor(tensor): \n",
        "  plt.imshow(tensor, cmap='gray')\n",
        "  plt.show()"
      ],
      "execution_count": 55,
      "outputs": []
    },
    {
      "cell_type": "code",
      "metadata": {
        "id": "_T_VCy4eHMvC",
        "outputId": "c5e30ce8-8b81-427b-b25e-62531c38b0e3",
        "colab": {
          "base_uri": "https://localhost:8080/"
        }
      },
      "source": [
        "tensor_of_batch = (iter(train_loader).next())[0]\n",
        "tensor_of_batch.shape"
      ],
      "execution_count": 56,
      "outputs": [
        {
          "output_type": "execute_result",
          "data": {
            "text/plain": [
              "torch.Size([32, 1, 28, 28])"
            ]
          },
          "metadata": {
            "tags": []
          },
          "execution_count": 56
        }
      ]
    },
    {
      "cell_type": "code",
      "metadata": {
        "id": "OvSgQ0_KIIPA",
        "outputId": "ddc3ba85-fafb-4358-b211-4f0c0ad6891d",
        "colab": {
          "base_uri": "https://localhost:8080/",
          "height": 265
        }
      },
      "source": [
        "### consider one image\n",
        "plot_tensor(tensor_of_batch[0][0])"
      ],
      "execution_count": 57,
      "outputs": [
        {
          "output_type": "display_data",
          "data": {
            "image/png": "[encoded data removed]",
            "text/plain": [
              "<Figure size 432x288 with 1 Axes>"
            ]
          },
          "metadata": {
            "tags": [],
            "needs_background": "light"
          }
        }
      ]
    },
    {
      "cell_type": "code",
      "metadata": {
        "id": "MW_X0AvkJNUO"
      },
      "source": [
        "# Encoder\n",
        "class Q_net(nn.Module):\n",
        "  \n",
        "  def __init__(self,N,z_dim):\n",
        "    super(Q_net,self).__init__()\n",
        "    self.fc1 = nn.Linear(28*28,N)\n",
        "    self.fc2 = nn.Linear(N,N)\n",
        "    self.fc3 = nn.Linear(N,z_dim)\n",
        "  def forward(self,x):\n",
        "\n",
        "    x = x.view((-1,784)) # NOT torch.flatten(x), roll out the whole batch\n",
        "    x = self.fc1(x)\n",
        "    x = F.dropout(x , p=0.25, training = self.training)\n",
        "    x = F.relu(x) # nn.ReLU()\n",
        "    x = self.fc2(x)\n",
        "    x = F.dropout(x , p=0.25, training = self.training)\n",
        "    x = F.relu(x) # nn.ReLU()\n",
        "    x = self.fc3(x)\n",
        "    return  x"
      ],
      "execution_count": 58,
      "outputs": []
    },
    {
      "cell_type": "code",
      "metadata": {
        "id": "XNaKdh0MNEkM"
      },
      "source": [
        "# Decoder\n",
        "class P_net(nn.Module):\n",
        "\n",
        "  def __init__(self,N,z_dim):\n",
        "    super(P_net,self).__init__()\n",
        "    self.fc1 = nn.Linear(z_dim,N)\n",
        "    self.fc2 = nn.Linear(N,N)\n",
        "    self.fc3 = nn.Linear(N,28*28)\n",
        "\n",
        "  def forward(self,z):\n",
        "    z = z.view((-1,120))\n",
        "    x = self.fc1(z)\n",
        "    x = F.dropout(x, p=0.25, training= self.training)\n",
        "    x = F.relu(x)\n",
        "    x = self.fc2(x)\n",
        "    x = F.dropout(x, p=0.25,training = self.training)\n",
        "    x = F.relu(x)\n",
        "    x = self.fc3(x)\n",
        "    return torch.sigmoid(x) # image should be in [0,1]"
      ],
      "execution_count": 59,
      "outputs": []
    },
    {
      "cell_type": "code",
      "metadata": {
        "id": "8FpZCqIAOlQk"
      },
      "source": [
        "# Discriminator\n",
        "class D_net_gauss(nn.Module):\n",
        "\n",
        "  def __init__(self,N,z_dim):\n",
        "    super(D_net_gauss,self).__init__()\n",
        "    self.fc1 = nn.Linear(z_dim,N)\n",
        "    self.fc2 = nn.Linear(N,N)\n",
        "    self.fc3 = nn.Linear(N,1)\n",
        "\n",
        "  def forward(self,z):\n",
        "    z = z.view((-1,120))\n",
        "    x = self.fc1(z)\n",
        "    x = F.dropout(x,p=0.2, training = self.training)\n",
        "    x = F.relu(x)\n",
        "    x = self.fc2(x)\n",
        "    x = F.dropout(x,p=0.2,training = self.training)\n",
        "    x = F.relu(x)\n",
        "    x = self.fc3(x)\n",
        "    return torch.sigmoid(x) # since it is a probability"
      ],
      "execution_count": 60,
      "outputs": []
    },
    {
      "cell_type": "code",
      "metadata": {
        "id": "O2l4PdXOQNDX"
      },
      "source": [
        "z_dims = 120\n",
        "N = 1000\n",
        "Q = Q_net(N,z_dims) # encoder\n",
        "P = P_net(N,z_dims) # decoder\n",
        "D_gauss = D_net_gauss(500,z_dims) # discriminator"
      ],
      "execution_count": 61,
      "outputs": []
    },
    {
      "cell_type": "code",
      "metadata": {
        "id": "2YGD7mrOR9Lw"
      },
      "source": [
        "#encode/decode optimizers\n",
        "optim_P = torch.optim.Adam(P.parameters(), lr = generative_lr)\n",
        "optim_Q_enc = torch.optim.Adam(Q.parameters(),lr = generative_lr)\n",
        "optim_Q_gen = torch.optim.Adam(Q.parameters(), lr= reg_lr)\n",
        "optim_D = torch.optim.Adam(D_gauss.parameters(), lr = reg_lr)"
      ],
      "execution_count": 62,
      "outputs": []
    },
    {
      "cell_type": "code",
      "metadata": {
        "id": "NKG4l6KNx06x"
      },
      "source": [
        "import tqdm\n",
        "from tqdm import tqdm_notebook"
      ],
      "execution_count": 63,
      "outputs": []
    },
    {
      "cell_type": "code",
      "metadata": {
        "id": "wwP9mkjZU9l1"
      },
      "source": [
        "def train_model(train_loader, Q, P, D_gauss, num_epochs):\n",
        "\n",
        "  rec_loss = []\n",
        "  discr_loss = []\n",
        "  gen_loss = []\n",
        "\n",
        "  optim_P = torch.optim.Adam(P.parameters(), lr = generative_lr)\n",
        "  optim_Q_enc = torch.optim.Adam(Q.parameters(),lr = generative_lr)\n",
        "  optim_Q_gen = torch.optim.Adam(Q.parameters(), lr= reg_lr)\n",
        "  optim_D = torch.optim.Adam(D_gauss.parameters(), lr = reg_lr)\n",
        "\n",
        "  \n",
        "\n",
        "  for epoch in range(num_epochs):\n",
        "    Q.train()\n",
        "    P.train()\n",
        "    D_gauss.train()\n",
        " \n",
        "    for data,_ in tqdm_notebook(train_loader):\n",
        "      P.zero_grad()\n",
        "      Q.zero_grad()\n",
        "      D_gauss.zero_grad()\n",
        "\n",
        "      # reconstruction loss\n",
        "      z_sample = Q(data)\n",
        "      x_sample = P(z_sample)\n",
        "\n",
        "      # for Binary Cross Entropy data should be [batch,784]\n",
        "      # but not [batch,1,28,28] \n",
        "      data_ = torch.tensor([])\n",
        "      for each_vector in data:\n",
        "        data_ = torch.cat([data_,each_vector[0].view(-1,784)])\n",
        "      \n",
        "\n",
        "\n",
        "      recon_loss = F.binary_cross_entropy( x_sample + EPS, data_ + EPS)\n",
        "      # one can try anothe loss , for instance, MSELoss \n",
        "      rec_loss.append(recon_loss.item())\n",
        "\n",
        "      recon_loss.backward()\n",
        "      optim_P.step()\n",
        "      optim_Q_enc.step()\n",
        "\n",
        "      # discriminator\n",
        "      Q.eval()\n",
        "      # under the assumption, that z_real from standard zero-mean Gauss\n",
        "      z_real_gauss = torch.randn(BATCH_SIZE,z_dims)\n",
        "      D_real_gauss = D_gauss(z_real_gauss)\n",
        "\n",
        "      z_fake_gauss = Q(data)\n",
        "      D_fake_gauss = D_gauss(z_fake_gauss)\n",
        "\n",
        "\n",
        "      D_loss = - torch.mean(torch.log(D_real_gauss + EPS) + torch.log(1 - D_fake_gauss + EPS))\n",
        "      discr_loss.append(D_loss)\n",
        "      D_loss.backward()\n",
        "      optim_D.step()\n",
        "\n",
        "      # generator\n",
        "      Q.train()\n",
        "      z_fake_gauss = Q(data)\n",
        "      #(z_fake_gauss.shape) == torch.Size([batch,120])\n",
        "      D_fake_gauss = D_gauss(z_fake_gauss)\n",
        "      #(D_fake_gauss.shape) == torch.Size([batch,1])\n",
        "      G_loss = - torch.mean(torch.log(D_fake_gauss + EPS))\n",
        "      gen_loss.append(G_loss)\n",
        "      G_loss.backward()\n",
        "      optim_Q_gen.step()\n",
        "\n",
        "  return rec_loss, discr_loss, gen_loss\n"
      ],
      "execution_count": 64,
      "outputs": []
    },
    {
      "cell_type": "code",
      "metadata": {
        "id": "1F4du_xGc3xM",
        "outputId": "64dd6752-939b-455a-9a75-47c244cb328e",
        "colab": {
          "base_uri": "https://localhost:8080/",
          "height": 247,
          "referenced_widgets": [
            "708a65a002684d8fba4a9d79c9ebeb6d",
            "268b50a5c3344f6ca91349cc24c99406",
            "4da13e3838364a2da0229d93faa09451",
            "5f86145f14114eb5903aad0dd09fdcea",
            "8cb34050c2eb47c48e8a1fab6feb940e",
            "1e60a233483042d393583b0270ab5eac",
            "b4ffc707f980443cac35b19c38186932",
            "93bf9e56eb4048db8ab7dec2fd44b1ca",
            "bfd53828049447b7b1c526e9a901a015",
            "da890af1cdfb41c0b73b505166d8aaaf",
            "402be6ecd03147639ac56165f9865ac7",
            "de435125db144accac9c9b7d890d7f70",
            "bea950d77cd84be08a89c3249079e0e3",
            "b24f8bcf5ddf4fd1bc7202026da24efa",
            "f90a382bdb74409cb83be6fcc4bdaa21",
            "2148b6696955485a83a851d094e8e604",
            "aa3d9bb7c38a4bba88a97336cd9c1a5d",
            "ce7e92c2a293438aa0f6ea3ef4db4957",
            "f87d27de9d144bf394a4d13cadc24237",
            "3c92b9ea044743f4950dfb8453b478b3",
            "3c1d41af635e4bc397e949ad2eb9edb5",
            "7a689d4c5b8348338f0b4ee8ac9d7a32",
            "e79e60dd65e34f49bdfe7db54688cb85",
            "d1c7bb0b90404b1ab5c98046bb1fde92",
            "a1dd156d49074daabb1ceae97bdfb2a0",
            "313208375c284442b7bc3d7479ccfcab",
            "0794a46b80344a85a127431d0cb38de4",
            "fea12c30ae9d4b4697fbcd19b7edb437",
            "6ebf26b8f2244462b50e776759913eeb",
            "e5d41f4496ad45079c857c56be296bdf",
            "56bd4ea66a0b410bbdf9b239a71f7bfc",
            "c9150e9cdd014f129daf5a8f806b0d82"
          ]
        }
      },
      "source": [
        "rec_loss, discr_loss, gen_loss = train_model(train_loader, Q ,P, D_gauss,EPOCHS)"
      ],
      "execution_count": 65,
      "outputs": [
        {
          "output_type": "stream",
          "text": [
            "/usr/local/lib/python3.6/dist-packages/ipykernel_launcher.py:19: TqdmDeprecationWarning: This function will be removed in tqdm==5.0.0\n",
            "Please use `tqdm.notebook.tqdm` instead of `tqdm.tqdm_notebook`\n"
          ],
          "name": "stderr"
        },
        {
          "output_type": "display_data",
          "data": {
            "application/vnd.jupyter.widget-view+json": {
              "model_id": "708a65a002684d8fba4a9d79c9ebeb6d",
              "version_minor": 0,
              "version_major": 2
            },
            "text/plain": [
              "HBox(children=(FloatProgress(value=0.0, max=1875.0), HTML(value='')))"
            ]
          },
          "metadata": {
            "tags": []
          }
        },
        {
          "output_type": "stream",
          "text": [
            "\n"
          ],
          "name": "stdout"
        },
        {
          "output_type": "display_data",
          "data": {
            "application/vnd.jupyter.widget-view+json": {
              "model_id": "bfd53828049447b7b1c526e9a901a015",
              "version_minor": 0,
              "version_major": 2
            },
            "text/plain": [
              "HBox(children=(FloatProgress(value=0.0, max=1875.0), HTML(value='')))"
            ]
          },
          "metadata": {
            "tags": []
          }
        },
        {
          "output_type": "stream",
          "text": [
            "\n"
          ],
          "name": "stdout"
        },
        {
          "output_type": "display_data",
          "data": {
            "application/vnd.jupyter.widget-view+json": {
              "model_id": "aa3d9bb7c38a4bba88a97336cd9c1a5d",
              "version_minor": 0,
              "version_major": 2
            },
            "text/plain": [
              "HBox(children=(FloatProgress(value=0.0, max=1875.0), HTML(value='')))"
            ]
          },
          "metadata": {
            "tags": []
          }
        },
        {
          "output_type": "stream",
          "text": [
            "\n"
          ],
          "name": "stdout"
        },
        {
          "output_type": "display_data",
          "data": {
            "application/vnd.jupyter.widget-view+json": {
              "model_id": "a1dd156d49074daabb1ceae97bdfb2a0",
              "version_minor": 0,
              "version_major": 2
            },
            "text/plain": [
              "HBox(children=(FloatProgress(value=0.0, max=1875.0), HTML(value='')))"
            ]
          },
          "metadata": {
            "tags": []
          }
        },
        {
          "output_type": "stream",
          "text": [
            "\n"
          ],
          "name": "stdout"
        }
      ]
    },
    {
      "cell_type": "code",
      "metadata": {
        "id": "3_nS293A1Y_Z",
        "outputId": "dce7b14c-a75e-46b8-8224-1e04738ae830",
        "colab": {
          "base_uri": "https://localhost:8080/",
          "height": 374
        }
      },
      "source": [
        "fig,ax = plt.subplots(3,1,figsize=(10,6))\n",
        "ax[0].plot(rec_loss, color = 'blue', label = 'reconstruction loss')\n",
        "ax[1].plot(discr_loss,color='magenta', label = 'loss of discriminator')\n",
        "ax[2].plot(gen_loss,color='darkorange', label = 'loss of generator')\n",
        "ax[1].legend()\n",
        "ax[0].legend()\n",
        "ax[2].legend()\n",
        "plt.show()"
      ],
      "execution_count": 72,
      "outputs": [
        {
          "output_type": "display_data",
          "data": {
            "image/png": "[encoded data removed]",
            "text/plain": [
              "<Figure size 720x432 with 3 Axes>"
            ]
          },
          "metadata": {
            "tags": [],
            "needs_background": "light"
          }
        }
      ]
    },
    {
      "cell_type": "markdown",
      "metadata": {
        "id": "U22DBwv7LWdM"
      },
      "source": [
        "One can how adversarial Autoencoder is able to reconstruct images from MNIST"
      ]
    },
    {
      "cell_type": "code",
      "metadata": {
        "id": "DXBuGAaG8XBY",
        "outputId": "ae76fc49-4d84-4f22-c077-b109f6675804",
        "colab": {
          "base_uri": "https://localhost:8080/",
          "height": 265
        }
      },
      "source": [
        "tensor_of_batch = (iter(train_loader).next())[0]\n",
        "plot_tensor(tensor_of_batch[0][0])"
      ],
      "execution_count": 67,
      "outputs": [
        {
          "output_type": "display_data",
          "data": {
            "image/png": "[encoded data removed]",
            "text/plain": [
              "<Figure size 432x288 with 1 Axes>"
            ]
          },
          "metadata": {
            "tags": [],
            "needs_background": "light"
          }
        }
      ]
    },
    {
      "cell_type": "code",
      "metadata": {
        "id": "Ve4MZ7Aq8fOK",
        "outputId": "f671f71f-1b04-4950-d842-244d331bb979",
        "colab": {
          "base_uri": "https://localhost:8080/",
          "height": 265
        }
      },
      "source": [
        "x = tensor_of_batch[0][0]\n",
        "z = Q(x)\n",
        "x = P(z)\n",
        "x = x.reshape([28,28]).detach()\n",
        "plot_tensor(x)"
      ],
      "execution_count": 68,
      "outputs": [
        {
          "output_type": "display_data",
          "data": {
            "image/png": "[encoded data removed]",
            "text/plain": [
              "<Figure size 432x288 with 1 Axes>"
            ]
          },
          "metadata": {
            "tags": [],
            "needs_background": "light"
          }
        }
      ]
    },
    {
      "cell_type": "markdown",
      "metadata": {
        "id": "QjCWztICLlal"
      },
      "source": [
        "https://github.com/bfarzin/pytorch_aae/blob/master/main_aae.py\n",
        "\n",
        "https://blog.paperspace.com/adversarial-autoencoders-with-pytorch/"
      ]
    }
  ]
}