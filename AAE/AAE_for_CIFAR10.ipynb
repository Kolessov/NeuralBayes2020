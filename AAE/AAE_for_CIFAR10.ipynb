{
  "nbformat": 4,
  "nbformat_minor": 0,
  "metadata": {
    "colab": {
      "name": "AAE for CIFAR10.ipynb",
      "provenance": []
    },
    "kernelspec": {
      "name": "python3",
      "display_name": "Python 3"
    },
    "widgets": {
      "application/vnd.jupyter.widget-state+json": {
        "f907a9579d844b92985ba5876ef2cdea": {
          "model_module": "@jupyter-widgets/controls",
          "model_name": "HBoxModel",
          "state": {
            "_view_name": "HBoxView",
            "_dom_classes": [],
            "_model_name": "HBoxModel",
            "_view_module": "@jupyter-widgets/controls",
            "_model_module_version": "1.5.0",
            "_view_count": null,
            "_view_module_version": "1.5.0",
            "box_style": "",
            "layout": "IPY_MODEL_9458386a21c1473faf78672bc0413e85",
            "_model_module": "@jupyter-widgets/controls",
            "children": [
              "IPY_MODEL_b4fd3f8056884c558648566879abe682",
              "IPY_MODEL_2b4bf5d41ff648acbf24659d0cf47ea5"
            ]
          }
        },
        "9458386a21c1473faf78672bc0413e85": {
          "model_module": "@jupyter-widgets/base",
          "model_name": "LayoutModel",
          "state": {
            "_view_name": "LayoutView",
            "grid_template_rows": null,
            "right": null,
            "justify_content": null,
            "_view_module": "@jupyter-widgets/base",
            "overflow": null,
            "_model_module_version": "1.2.0",
            "_view_count": null,
            "flex_flow": null,
            "width": null,
            "min_width": null,
            "border": null,
            "align_items": null,
            "bottom": null,
            "_model_module": "@jupyter-widgets/base",
            "top": null,
            "grid_column": null,
            "overflow_y": null,
            "overflow_x": null,
            "grid_auto_flow": null,
            "grid_area": null,
            "grid_template_columns": null,
            "flex": null,
            "_model_name": "LayoutModel",
            "justify_items": null,
            "grid_row": null,
            "max_height": null,
            "align_content": null,
            "visibility": null,
            "align_self": null,
            "height": null,
            "min_height": null,
            "padding": null,
            "grid_auto_rows": null,
            "grid_gap": null,
            "max_width": null,
            "order": null,
            "_view_module_version": "1.2.0",
            "grid_template_areas": null,
            "object_position": null,
            "object_fit": null,
            "grid_auto_columns": null,
            "margin": null,
            "display": null,
            "left": null
          }
        },
        "b4fd3f8056884c558648566879abe682": {
          "model_module": "@jupyter-widgets/controls",
          "model_name": "FloatProgressModel",
          "state": {
            "_view_name": "ProgressView",
            "style": "IPY_MODEL_30160996fed2492fb0a78e549843ebfb",
            "_dom_classes": [],
            "description": "100%",
            "_model_name": "FloatProgressModel",
            "bar_style": "success",
            "max": 1000,
            "_view_module": "@jupyter-widgets/controls",
            "_model_module_version": "1.5.0",
            "value": 1000,
            "_view_count": null,
            "_view_module_version": "1.5.0",
            "orientation": "horizontal",
            "min": 0,
            "description_tooltip": null,
            "_model_module": "@jupyter-widgets/controls",
            "layout": "IPY_MODEL_93bbfadb8198479a831297cf2a88b4e2"
          }
        },
        "2b4bf5d41ff648acbf24659d0cf47ea5": {
          "model_module": "@jupyter-widgets/controls",
          "model_name": "HTMLModel",
          "state": {
            "_view_name": "HTMLView",
            "style": "IPY_MODEL_2b57cb2358bb4685923b84e2d513199c",
            "_dom_classes": [],
            "description": "",
            "_model_name": "HTMLModel",
            "placeholder": "​",
            "_view_module": "@jupyter-widgets/controls",
            "_model_module_version": "1.5.0",
            "value": " 1000/1000 [17:23&lt;00:00,  1.04s/it]",
            "_view_count": null,
            "_view_module_version": "1.5.0",
            "description_tooltip": null,
            "_model_module": "@jupyter-widgets/controls",
            "layout": "IPY_MODEL_2858b1ecac994104998607431ff1bf88"
          }
        },
        "30160996fed2492fb0a78e549843ebfb": {
          "model_module": "@jupyter-widgets/controls",
          "model_name": "ProgressStyleModel",
          "state": {
            "_view_name": "StyleView",
            "_model_name": "ProgressStyleModel",
            "description_width": "initial",
            "_view_module": "@jupyter-widgets/base",
            "_model_module_version": "1.5.0",
            "_view_count": null,
            "_view_module_version": "1.2.0",
            "bar_color": null,
            "_model_module": "@jupyter-widgets/controls"
          }
        },
        "93bbfadb8198479a831297cf2a88b4e2": {
          "model_module": "@jupyter-widgets/base",
          "model_name": "LayoutModel",
          "state": {
            "_view_name": "LayoutView",
            "grid_template_rows": null,
            "right": null,
            "justify_content": null,
            "_view_module": "@jupyter-widgets/base",
            "overflow": null,
            "_model_module_version": "1.2.0",
            "_view_count": null,
            "flex_flow": null,
            "width": null,
            "min_width": null,
            "border": null,
            "align_items": null,
            "bottom": null,
            "_model_module": "@jupyter-widgets/base",
            "top": null,
            "grid_column": null,
            "overflow_y": null,
            "overflow_x": null,
            "grid_auto_flow": null,
            "grid_area": null,
            "grid_template_columns": null,
            "flex": null,
            "_model_name": "LayoutModel",
            "justify_items": null,
            "grid_row": null,
            "max_height": null,
            "align_content": null,
            "visibility": null,
            "align_self": null,
            "height": null,
            "min_height": null,
            "padding": null,
            "grid_auto_rows": null,
            "grid_gap": null,
            "max_width": null,
            "order": null,
            "_view_module_version": "1.2.0",
            "grid_template_areas": null,
            "object_position": null,
            "object_fit": null,
            "grid_auto_columns": null,
            "margin": null,
            "display": null,
            "left": null
          }
        },
        "2b57cb2358bb4685923b84e2d513199c": {
          "model_module": "@jupyter-widgets/controls",
          "model_name": "DescriptionStyleModel",
          "state": {
            "_view_name": "StyleView",
            "_model_name": "DescriptionStyleModel",
            "description_width": "",
            "_view_module": "@jupyter-widgets/base",
            "_model_module_version": "1.5.0",
            "_view_count": null,
            "_view_module_version": "1.2.0",
            "_model_module": "@jupyter-widgets/controls"
          }
        },
        "2858b1ecac994104998607431ff1bf88": {
          "model_module": "@jupyter-widgets/base",
          "model_name": "LayoutModel",
          "state": {
            "_view_name": "LayoutView",
            "grid_template_rows": null,
            "right": null,
            "justify_content": null,
            "_view_module": "@jupyter-widgets/base",
            "overflow": null,
            "_model_module_version": "1.2.0",
            "_view_count": null,
            "flex_flow": null,
            "width": null,
            "min_width": null,
            "border": null,
            "align_items": null,
            "bottom": null,
            "_model_module": "@jupyter-widgets/base",
            "top": null,
            "grid_column": null,
            "overflow_y": null,
            "overflow_x": null,
            "grid_auto_flow": null,
            "grid_area": null,
            "grid_template_columns": null,
            "flex": null,
            "_model_name": "LayoutModel",
            "justify_items": null,
            "grid_row": null,
            "max_height": null,
            "align_content": null,
            "visibility": null,
            "align_self": null,
            "height": null,
            "min_height": null,
            "padding": null,
            "grid_auto_rows": null,
            "grid_gap": null,
            "max_width": null,
            "order": null,
            "_view_module_version": "1.2.0",
            "grid_template_areas": null,
            "object_position": null,
            "object_fit": null,
            "grid_auto_columns": null,
            "margin": null,
            "display": null,
            "left": null
          }
        },
        "35beb78af03a4ff2a5e511ba219e4a9a": {
          "model_module": "@jupyter-widgets/controls",
          "model_name": "HBoxModel",
          "state": {
            "_view_name": "HBoxView",
            "_dom_classes": [],
            "_model_name": "HBoxModel",
            "_view_module": "@jupyter-widgets/controls",
            "_model_module_version": "1.5.0",
            "_view_count": null,
            "_view_module_version": "1.5.0",
            "box_style": "",
            "layout": "IPY_MODEL_0b3f90e981d64a7d809964dbc82ac290",
            "_model_module": "@jupyter-widgets/controls",
            "children": [
              "IPY_MODEL_c49f9714ae474f4882f184fd707131ed",
              "IPY_MODEL_f3d24cd0b81245229989811845c84f6b"
            ]
          }
        },
        "0b3f90e981d64a7d809964dbc82ac290": {
          "model_module": "@jupyter-widgets/base",
          "model_name": "LayoutModel",
          "state": {
            "_view_name": "LayoutView",
            "grid_template_rows": null,
            "right": null,
            "justify_content": null,
            "_view_module": "@jupyter-widgets/base",
            "overflow": null,
            "_model_module_version": "1.2.0",
            "_view_count": null,
            "flex_flow": null,
            "width": null,
            "min_width": null,
            "border": null,
            "align_items": null,
            "bottom": null,
            "_model_module": "@jupyter-widgets/base",
            "top": null,
            "grid_column": null,
            "overflow_y": null,
            "overflow_x": null,
            "grid_auto_flow": null,
            "grid_area": null,
            "grid_template_columns": null,
            "flex": null,
            "_model_name": "LayoutModel",
            "justify_items": null,
            "grid_row": null,
            "max_height": null,
            "align_content": null,
            "visibility": null,
            "align_self": null,
            "height": null,
            "min_height": null,
            "padding": null,
            "grid_auto_rows": null,
            "grid_gap": null,
            "max_width": null,
            "order": null,
            "_view_module_version": "1.2.0",
            "grid_template_areas": null,
            "object_position": null,
            "object_fit": null,
            "grid_auto_columns": null,
            "margin": null,
            "display": null,
            "left": null
          }
        },
        "c49f9714ae474f4882f184fd707131ed": {
          "model_module": "@jupyter-widgets/controls",
          "model_name": "FloatProgressModel",
          "state": {
            "_view_name": "ProgressView",
            "style": "IPY_MODEL_2ef68ca928c54206874e9ea5077b4692",
            "_dom_classes": [],
            "description": "100%",
            "_model_name": "FloatProgressModel",
            "bar_style": "success",
            "max": 1000,
            "_view_module": "@jupyter-widgets/controls",
            "_model_module_version": "1.5.0",
            "value": 1000,
            "_view_count": null,
            "_view_module_version": "1.5.0",
            "orientation": "horizontal",
            "min": 0,
            "description_tooltip": null,
            "_model_module": "@jupyter-widgets/controls",
            "layout": "IPY_MODEL_5bacd879bc6140919022d197861fc2b4"
          }
        },
        "f3d24cd0b81245229989811845c84f6b": {
          "model_module": "@jupyter-widgets/controls",
          "model_name": "HTMLModel",
          "state": {
            "_view_name": "HTMLView",
            "style": "IPY_MODEL_9ccd54727cfe4bd69ca611468b1e1061",
            "_dom_classes": [],
            "description": "",
            "_model_name": "HTMLModel",
            "placeholder": "​",
            "_view_module": "@jupyter-widgets/controls",
            "_model_module_version": "1.5.0",
            "value": " 1000/1000 [06:53&lt;00:00,  2.42it/s]",
            "_view_count": null,
            "_view_module_version": "1.5.0",
            "description_tooltip": null,
            "_model_module": "@jupyter-widgets/controls",
            "layout": "IPY_MODEL_3723d794dc0f4585bffc605b4898105e"
          }
        },
        "2ef68ca928c54206874e9ea5077b4692": {
          "model_module": "@jupyter-widgets/controls",
          "model_name": "ProgressStyleModel",
          "state": {
            "_view_name": "StyleView",
            "_model_name": "ProgressStyleModel",
            "description_width": "initial",
            "_view_module": "@jupyter-widgets/base",
            "_model_module_version": "1.5.0",
            "_view_count": null,
            "_view_module_version": "1.2.0",
            "bar_color": null,
            "_model_module": "@jupyter-widgets/controls"
          }
        },
        "5bacd879bc6140919022d197861fc2b4": {
          "model_module": "@jupyter-widgets/base",
          "model_name": "LayoutModel",
          "state": {
            "_view_name": "LayoutView",
            "grid_template_rows": null,
            "right": null,
            "justify_content": null,
            "_view_module": "@jupyter-widgets/base",
            "overflow": null,
            "_model_module_version": "1.2.0",
            "_view_count": null,
            "flex_flow": null,
            "width": null,
            "min_width": null,
            "border": null,
            "align_items": null,
            "bottom": null,
            "_model_module": "@jupyter-widgets/base",
            "top": null,
            "grid_column": null,
            "overflow_y": null,
            "overflow_x": null,
            "grid_auto_flow": null,
            "grid_area": null,
            "grid_template_columns": null,
            "flex": null,
            "_model_name": "LayoutModel",
            "justify_items": null,
            "grid_row": null,
            "max_height": null,
            "align_content": null,
            "visibility": null,
            "align_self": null,
            "height": null,
            "min_height": null,
            "padding": null,
            "grid_auto_rows": null,
            "grid_gap": null,
            "max_width": null,
            "order": null,
            "_view_module_version": "1.2.0",
            "grid_template_areas": null,
            "object_position": null,
            "object_fit": null,
            "grid_auto_columns": null,
            "margin": null,
            "display": null,
            "left": null
          }
        },
        "9ccd54727cfe4bd69ca611468b1e1061": {
          "model_module": "@jupyter-widgets/controls",
          "model_name": "DescriptionStyleModel",
          "state": {
            "_view_name": "StyleView",
            "_model_name": "DescriptionStyleModel",
            "description_width": "",
            "_view_module": "@jupyter-widgets/base",
            "_model_module_version": "1.5.0",
            "_view_count": null,
            "_view_module_version": "1.2.0",
            "_model_module": "@jupyter-widgets/controls"
          }
        },
        "3723d794dc0f4585bffc605b4898105e": {
          "model_module": "@jupyter-widgets/base",
          "model_name": "LayoutModel",
          "state": {
            "_view_name": "LayoutView",
            "grid_template_rows": null,
            "right": null,
            "justify_content": null,
            "_view_module": "@jupyter-widgets/base",
            "overflow": null,
            "_model_module_version": "1.2.0",
            "_view_count": null,
            "flex_flow": null,
            "width": null,
            "min_width": null,
            "border": null,
            "align_items": null,
            "bottom": null,
            "_model_module": "@jupyter-widgets/base",
            "top": null,
            "grid_column": null,
            "overflow_y": null,
            "overflow_x": null,
            "grid_auto_flow": null,
            "grid_area": null,
            "grid_template_columns": null,
            "flex": null,
            "_model_name": "LayoutModel",
            "justify_items": null,
            "grid_row": null,
            "max_height": null,
            "align_content": null,
            "visibility": null,
            "align_self": null,
            "height": null,
            "min_height": null,
            "padding": null,
            "grid_auto_rows": null,
            "grid_gap": null,
            "max_width": null,
            "order": null,
            "_view_module_version": "1.2.0",
            "grid_template_areas": null,
            "object_position": null,
            "object_fit": null,
            "grid_auto_columns": null,
            "margin": null,
            "display": null,
            "left": null
          }
        },
        "56293165ec8748788748c2b9b9467baa": {
          "model_module": "@jupyter-widgets/controls",
          "model_name": "HBoxModel",
          "state": {
            "_view_name": "HBoxView",
            "_dom_classes": [],
            "_model_name": "HBoxModel",
            "_view_module": "@jupyter-widgets/controls",
            "_model_module_version": "1.5.0",
            "_view_count": null,
            "_view_module_version": "1.5.0",
            "box_style": "",
            "layout": "IPY_MODEL_b236ae1fd9e14c83b4a0a33613ef9c0d",
            "_model_module": "@jupyter-widgets/controls",
            "children": [
              "IPY_MODEL_8de779e1c7804d818ee8ecb8ecdfefde",
              "IPY_MODEL_a66b039bc97a49f182a2250157d79abd"
            ]
          }
        },
        "b236ae1fd9e14c83b4a0a33613ef9c0d": {
          "model_module": "@jupyter-widgets/base",
          "model_name": "LayoutModel",
          "state": {
            "_view_name": "LayoutView",
            "grid_template_rows": null,
            "right": null,
            "justify_content": null,
            "_view_module": "@jupyter-widgets/base",
            "overflow": null,
            "_model_module_version": "1.2.0",
            "_view_count": null,
            "flex_flow": null,
            "width": null,
            "min_width": null,
            "border": null,
            "align_items": null,
            "bottom": null,
            "_model_module": "@jupyter-widgets/base",
            "top": null,
            "grid_column": null,
            "overflow_y": null,
            "overflow_x": null,
            "grid_auto_flow": null,
            "grid_area": null,
            "grid_template_columns": null,
            "flex": null,
            "_model_name": "LayoutModel",
            "justify_items": null,
            "grid_row": null,
            "max_height": null,
            "align_content": null,
            "visibility": null,
            "align_self": null,
            "height": null,
            "min_height": null,
            "padding": null,
            "grid_auto_rows": null,
            "grid_gap": null,
            "max_width": null,
            "order": null,
            "_view_module_version": "1.2.0",
            "grid_template_areas": null,
            "object_position": null,
            "object_fit": null,
            "grid_auto_columns": null,
            "margin": null,
            "display": null,
            "left": null
          }
        },
        "8de779e1c7804d818ee8ecb8ecdfefde": {
          "model_module": "@jupyter-widgets/controls",
          "model_name": "FloatProgressModel",
          "state": {
            "_view_name": "ProgressView",
            "style": "IPY_MODEL_61ddb4e040964a4d8f35f13587e9ce41",
            "_dom_classes": [],
            "description": "100%",
            "_model_name": "FloatProgressModel",
            "bar_style": "success",
            "max": 1000,
            "_view_module": "@jupyter-widgets/controls",
            "_model_module_version": "1.5.0",
            "value": 1000,
            "_view_count": null,
            "_view_module_version": "1.5.0",
            "orientation": "horizontal",
            "min": 0,
            "description_tooltip": null,
            "_model_module": "@jupyter-widgets/controls",
            "layout": "IPY_MODEL_40702c90c5194b01bd02bd85d3440a98"
          }
        },
        "a66b039bc97a49f182a2250157d79abd": {
          "model_module": "@jupyter-widgets/controls",
          "model_name": "HTMLModel",
          "state": {
            "_view_name": "HTMLView",
            "style": "IPY_MODEL_3dbb3c5deed94516b1ae1f46bad4a173",
            "_dom_classes": [],
            "description": "",
            "_model_name": "HTMLModel",
            "placeholder": "​",
            "_view_module": "@jupyter-widgets/controls",
            "_model_module_version": "1.5.0",
            "value": " 1000/1000 [04:16&lt;00:00,  3.89it/s]",
            "_view_count": null,
            "_view_module_version": "1.5.0",
            "description_tooltip": null,
            "_model_module": "@jupyter-widgets/controls",
            "layout": "IPY_MODEL_2278cd44727541419144ce99c3697e71"
          }
        },
        "61ddb4e040964a4d8f35f13587e9ce41": {
          "model_module": "@jupyter-widgets/controls",
          "model_name": "ProgressStyleModel",
          "state": {
            "_view_name": "StyleView",
            "_model_name": "ProgressStyleModel",
            "description_width": "initial",
            "_view_module": "@jupyter-widgets/base",
            "_model_module_version": "1.5.0",
            "_view_count": null,
            "_view_module_version": "1.2.0",
            "bar_color": null,
            "_model_module": "@jupyter-widgets/controls"
          }
        },
        "40702c90c5194b01bd02bd85d3440a98": {
          "model_module": "@jupyter-widgets/base",
          "model_name": "LayoutModel",
          "state": {
            "_view_name": "LayoutView",
            "grid_template_rows": null,
            "right": null,
            "justify_content": null,
            "_view_module": "@jupyter-widgets/base",
            "overflow": null,
            "_model_module_version": "1.2.0",
            "_view_count": null,
            "flex_flow": null,
            "width": null,
            "min_width": null,
            "border": null,
            "align_items": null,
            "bottom": null,
            "_model_module": "@jupyter-widgets/base",
            "top": null,
            "grid_column": null,
            "overflow_y": null,
            "overflow_x": null,
            "grid_auto_flow": null,
            "grid_area": null,
            "grid_template_columns": null,
            "flex": null,
            "_model_name": "LayoutModel",
            "justify_items": null,
            "grid_row": null,
            "max_height": null,
            "align_content": null,
            "visibility": null,
            "align_self": null,
            "height": null,
            "min_height": null,
            "padding": null,
            "grid_auto_rows": null,
            "grid_gap": null,
            "max_width": null,
            "order": null,
            "_view_module_version": "1.2.0",
            "grid_template_areas": null,
            "object_position": null,
            "object_fit": null,
            "grid_auto_columns": null,
            "margin": null,
            "display": null,
            "left": null
          }
        },
        "3dbb3c5deed94516b1ae1f46bad4a173": {
          "model_module": "@jupyter-widgets/controls",
          "model_name": "DescriptionStyleModel",
          "state": {
            "_view_name": "StyleView",
            "_model_name": "DescriptionStyleModel",
            "description_width": "",
            "_view_module": "@jupyter-widgets/base",
            "_model_module_version": "1.5.0",
            "_view_count": null,
            "_view_module_version": "1.2.0",
            "_model_module": "@jupyter-widgets/controls"
          }
        },
        "2278cd44727541419144ce99c3697e71": {
          "model_module": "@jupyter-widgets/base",
          "model_name": "LayoutModel",
          "state": {
            "_view_name": "LayoutView",
            "grid_template_rows": null,
            "right": null,
            "justify_content": null,
            "_view_module": "@jupyter-widgets/base",
            "overflow": null,
            "_model_module_version": "1.2.0",
            "_view_count": null,
            "flex_flow": null,
            "width": null,
            "min_width": null,
            "border": null,
            "align_items": null,
            "bottom": null,
            "_model_module": "@jupyter-widgets/base",
            "top": null,
            "grid_column": null,
            "overflow_y": null,
            "overflow_x": null,
            "grid_auto_flow": null,
            "grid_area": null,
            "grid_template_columns": null,
            "flex": null,
            "_model_name": "LayoutModel",
            "justify_items": null,
            "grid_row": null,
            "max_height": null,
            "align_content": null,
            "visibility": null,
            "align_self": null,
            "height": null,
            "min_height": null,
            "padding": null,
            "grid_auto_rows": null,
            "grid_gap": null,
            "max_width": null,
            "order": null,
            "_view_module_version": "1.2.0",
            "grid_template_areas": null,
            "object_position": null,
            "object_fit": null,
            "grid_auto_columns": null,
            "margin": null,
            "display": null,
            "left": null
          }
        },
        "6f2a58af6ed04651a2682899f602d722": {
          "model_module": "@jupyter-widgets/controls",
          "model_name": "HBoxModel",
          "state": {
            "_view_name": "HBoxView",
            "_dom_classes": [],
            "_model_name": "HBoxModel",
            "_view_module": "@jupyter-widgets/controls",
            "_model_module_version": "1.5.0",
            "_view_count": null,
            "_view_module_version": "1.5.0",
            "box_style": "",
            "layout": "IPY_MODEL_65dc9fba807f49058ff33322083a2352",
            "_model_module": "@jupyter-widgets/controls",
            "children": [
              "IPY_MODEL_da02d550ea444c4c8d0169a7e588256a",
              "IPY_MODEL_573cbb7fa0324d958cd326a4a4bebbbb"
            ]
          }
        },
        "65dc9fba807f49058ff33322083a2352": {
          "model_module": "@jupyter-widgets/base",
          "model_name": "LayoutModel",
          "state": {
            "_view_name": "LayoutView",
            "grid_template_rows": null,
            "right": null,
            "justify_content": null,
            "_view_module": "@jupyter-widgets/base",
            "overflow": null,
            "_model_module_version": "1.2.0",
            "_view_count": null,
            "flex_flow": null,
            "width": null,
            "min_width": null,
            "border": null,
            "align_items": null,
            "bottom": null,
            "_model_module": "@jupyter-widgets/base",
            "top": null,
            "grid_column": null,
            "overflow_y": null,
            "overflow_x": null,
            "grid_auto_flow": null,
            "grid_area": null,
            "grid_template_columns": null,
            "flex": null,
            "_model_name": "LayoutModel",
            "justify_items": null,
            "grid_row": null,
            "max_height": null,
            "align_content": null,
            "visibility": null,
            "align_self": null,
            "height": null,
            "min_height": null,
            "padding": null,
            "grid_auto_rows": null,
            "grid_gap": null,
            "max_width": null,
            "order": null,
            "_view_module_version": "1.2.0",
            "grid_template_areas": null,
            "object_position": null,
            "object_fit": null,
            "grid_auto_columns": null,
            "margin": null,
            "display": null,
            "left": null
          }
        },
        "da02d550ea444c4c8d0169a7e588256a": {
          "model_module": "@jupyter-widgets/controls",
          "model_name": "FloatProgressModel",
          "state": {
            "_view_name": "ProgressView",
            "style": "IPY_MODEL_acd324c76eae45498aa0ac9155469d05",
            "_dom_classes": [],
            "description": "100%",
            "_model_name": "FloatProgressModel",
            "bar_style": "success",
            "max": 1000,
            "_view_module": "@jupyter-widgets/controls",
            "_model_module_version": "1.5.0",
            "value": 1000,
            "_view_count": null,
            "_view_module_version": "1.5.0",
            "orientation": "horizontal",
            "min": 0,
            "description_tooltip": null,
            "_model_module": "@jupyter-widgets/controls",
            "layout": "IPY_MODEL_555ea3e42c8540f590baf47bd51689ac"
          }
        },
        "573cbb7fa0324d958cd326a4a4bebbbb": {
          "model_module": "@jupyter-widgets/controls",
          "model_name": "HTMLModel",
          "state": {
            "_view_name": "HTMLView",
            "style": "IPY_MODEL_e9f354c87b9941099346189cd777c1c8",
            "_dom_classes": [],
            "description": "",
            "_model_name": "HTMLModel",
            "placeholder": "​",
            "_view_module": "@jupyter-widgets/controls",
            "_model_module_version": "1.5.0",
            "value": " 1000/1000 [09:36&lt;00:00,  1.73it/s]",
            "_view_count": null,
            "_view_module_version": "1.5.0",
            "description_tooltip": null,
            "_model_module": "@jupyter-widgets/controls",
            "layout": "IPY_MODEL_88d0348c61444e39bb2e46ca8988f511"
          }
        },
        "acd324c76eae45498aa0ac9155469d05": {
          "model_module": "@jupyter-widgets/controls",
          "model_name": "ProgressStyleModel",
          "state": {
            "_view_name": "StyleView",
            "_model_name": "ProgressStyleModel",
            "description_width": "initial",
            "_view_module": "@jupyter-widgets/base",
            "_model_module_version": "1.5.0",
            "_view_count": null,
            "_view_module_version": "1.2.0",
            "bar_color": null,
            "_model_module": "@jupyter-widgets/controls"
          }
        },
        "555ea3e42c8540f590baf47bd51689ac": {
          "model_module": "@jupyter-widgets/base",
          "model_name": "LayoutModel",
          "state": {
            "_view_name": "LayoutView",
            "grid_template_rows": null,
            "right": null,
            "justify_content": null,
            "_view_module": "@jupyter-widgets/base",
            "overflow": null,
            "_model_module_version": "1.2.0",
            "_view_count": null,
            "flex_flow": null,
            "width": null,
            "min_width": null,
            "border": null,
            "align_items": null,
            "bottom": null,
            "_model_module": "@jupyter-widgets/base",
            "top": null,
            "grid_column": null,
            "overflow_y": null,
            "overflow_x": null,
            "grid_auto_flow": null,
            "grid_area": null,
            "grid_template_columns": null,
            "flex": null,
            "_model_name": "LayoutModel",
            "justify_items": null,
            "grid_row": null,
            "max_height": null,
            "align_content": null,
            "visibility": null,
            "align_self": null,
            "height": null,
            "min_height": null,
            "padding": null,
            "grid_auto_rows": null,
            "grid_gap": null,
            "max_width": null,
            "order": null,
            "_view_module_version": "1.2.0",
            "grid_template_areas": null,
            "object_position": null,
            "object_fit": null,
            "grid_auto_columns": null,
            "margin": null,
            "display": null,
            "left": null
          }
        },
        "e9f354c87b9941099346189cd777c1c8": {
          "model_module": "@jupyter-widgets/controls",
          "model_name": "DescriptionStyleModel",
          "state": {
            "_view_name": "StyleView",
            "_model_name": "DescriptionStyleModel",
            "description_width": "",
            "_view_module": "@jupyter-widgets/base",
            "_model_module_version": "1.5.0",
            "_view_count": null,
            "_view_module_version": "1.2.0",
            "_model_module": "@jupyter-widgets/controls"
          }
        },
        "88d0348c61444e39bb2e46ca8988f511": {
          "model_module": "@jupyter-widgets/base",
          "model_name": "LayoutModel",
          "state": {
            "_view_name": "LayoutView",
            "grid_template_rows": null,
            "right": null,
            "justify_content": null,
            "_view_module": "@jupyter-widgets/base",
            "overflow": null,
            "_model_module_version": "1.2.0",
            "_view_count": null,
            "flex_flow": null,
            "width": null,
            "min_width": null,
            "border": null,
            "align_items": null,
            "bottom": null,
            "_model_module": "@jupyter-widgets/base",
            "top": null,
            "grid_column": null,
            "overflow_y": null,
            "overflow_x": null,
            "grid_auto_flow": null,
            "grid_area": null,
            "grid_template_columns": null,
            "flex": null,
            "_model_name": "LayoutModel",
            "justify_items": null,
            "grid_row": null,
            "max_height": null,
            "align_content": null,
            "visibility": null,
            "align_self": null,
            "height": null,
            "min_height": null,
            "padding": null,
            "grid_auto_rows": null,
            "grid_gap": null,
            "max_width": null,
            "order": null,
            "_view_module_version": "1.2.0",
            "grid_template_areas": null,
            "object_position": null,
            "object_fit": null,
            "grid_auto_columns": null,
            "margin": null,
            "display": null,
            "left": null
          }
        },
        "4c2e55a3807c4905bebc1104cee5181e": {
          "model_module": "@jupyter-widgets/controls",
          "model_name": "HBoxModel",
          "state": {
            "_view_name": "HBoxView",
            "_dom_classes": [],
            "_model_name": "HBoxModel",
            "_view_module": "@jupyter-widgets/controls",
            "_model_module_version": "1.5.0",
            "_view_count": null,
            "_view_module_version": "1.5.0",
            "box_style": "",
            "layout": "IPY_MODEL_b9b81617ca0443ffbf876a7b90691eb8",
            "_model_module": "@jupyter-widgets/controls",
            "children": [
              "IPY_MODEL_65d264faacbe4d30afbad9bc293571ac",
              "IPY_MODEL_c45344580feb4af3aee2da2ce3557c2b"
            ]
          }
        },
        "b9b81617ca0443ffbf876a7b90691eb8": {
          "model_module": "@jupyter-widgets/base",
          "model_name": "LayoutModel",
          "state": {
            "_view_name": "LayoutView",
            "grid_template_rows": null,
            "right": null,
            "justify_content": null,
            "_view_module": "@jupyter-widgets/base",
            "overflow": null,
            "_model_module_version": "1.2.0",
            "_view_count": null,
            "flex_flow": null,
            "width": null,
            "min_width": null,
            "border": null,
            "align_items": null,
            "bottom": null,
            "_model_module": "@jupyter-widgets/base",
            "top": null,
            "grid_column": null,
            "overflow_y": null,
            "overflow_x": null,
            "grid_auto_flow": null,
            "grid_area": null,
            "grid_template_columns": null,
            "flex": null,
            "_model_name": "LayoutModel",
            "justify_items": null,
            "grid_row": null,
            "max_height": null,
            "align_content": null,
            "visibility": null,
            "align_self": null,
            "height": null,
            "min_height": null,
            "padding": null,
            "grid_auto_rows": null,
            "grid_gap": null,
            "max_width": null,
            "order": null,
            "_view_module_version": "1.2.0",
            "grid_template_areas": null,
            "object_position": null,
            "object_fit": null,
            "grid_auto_columns": null,
            "margin": null,
            "display": null,
            "left": null
          }
        },
        "65d264faacbe4d30afbad9bc293571ac": {
          "model_module": "@jupyter-widgets/controls",
          "model_name": "FloatProgressModel",
          "state": {
            "_view_name": "ProgressView",
            "style": "IPY_MODEL_609478c681414ab992fa2acb26673d1b",
            "_dom_classes": [],
            "description": "100%",
            "_model_name": "FloatProgressModel",
            "bar_style": "success",
            "max": 1000,
            "_view_module": "@jupyter-widgets/controls",
            "_model_module_version": "1.5.0",
            "value": 1000,
            "_view_count": null,
            "_view_module_version": "1.5.0",
            "orientation": "horizontal",
            "min": 0,
            "description_tooltip": null,
            "_model_module": "@jupyter-widgets/controls",
            "layout": "IPY_MODEL_7b078ba027ae40829b7795fe0f63cefe"
          }
        },
        "c45344580feb4af3aee2da2ce3557c2b": {
          "model_module": "@jupyter-widgets/controls",
          "model_name": "HTMLModel",
          "state": {
            "_view_name": "HTMLView",
            "style": "IPY_MODEL_6681c80fd6c84a71b2f3e288f51aeffe",
            "_dom_classes": [],
            "description": "",
            "_model_name": "HTMLModel",
            "placeholder": "​",
            "_view_module": "@jupyter-widgets/controls",
            "_model_module_version": "1.5.0",
            "value": " 1000/1000 [07:04&lt;00:00,  2.36it/s]",
            "_view_count": null,
            "_view_module_version": "1.5.0",
            "description_tooltip": null,
            "_model_module": "@jupyter-widgets/controls",
            "layout": "IPY_MODEL_8b0f24ac78ae4e8caf92e84e28861187"
          }
        },
        "609478c681414ab992fa2acb26673d1b": {
          "model_module": "@jupyter-widgets/controls",
          "model_name": "ProgressStyleModel",
          "state": {
            "_view_name": "StyleView",
            "_model_name": "ProgressStyleModel",
            "description_width": "initial",
            "_view_module": "@jupyter-widgets/base",
            "_model_module_version": "1.5.0",
            "_view_count": null,
            "_view_module_version": "1.2.0",
            "bar_color": null,
            "_model_module": "@jupyter-widgets/controls"
          }
        },
        "7b078ba027ae40829b7795fe0f63cefe": {
          "model_module": "@jupyter-widgets/base",
          "model_name": "LayoutModel",
          "state": {
            "_view_name": "LayoutView",
            "grid_template_rows": null,
            "right": null,
            "justify_content": null,
            "_view_module": "@jupyter-widgets/base",
            "overflow": null,
            "_model_module_version": "1.2.0",
            "_view_count": null,
            "flex_flow": null,
            "width": null,
            "min_width": null,
            "border": null,
            "align_items": null,
            "bottom": null,
            "_model_module": "@jupyter-widgets/base",
            "top": null,
            "grid_column": null,
            "overflow_y": null,
            "overflow_x": null,
            "grid_auto_flow": null,
            "grid_area": null,
            "grid_template_columns": null,
            "flex": null,
            "_model_name": "LayoutModel",
            "justify_items": null,
            "grid_row": null,
            "max_height": null,
            "align_content": null,
            "visibility": null,
            "align_self": null,
            "height": null,
            "min_height": null,
            "padding": null,
            "grid_auto_rows": null,
            "grid_gap": null,
            "max_width": null,
            "order": null,
            "_view_module_version": "1.2.0",
            "grid_template_areas": null,
            "object_position": null,
            "object_fit": null,
            "grid_auto_columns": null,
            "margin": null,
            "display": null,
            "left": null
          }
        },
        "6681c80fd6c84a71b2f3e288f51aeffe": {
          "model_module": "@jupyter-widgets/controls",
          "model_name": "DescriptionStyleModel",
          "state": {
            "_view_name": "StyleView",
            "_model_name": "DescriptionStyleModel",
            "description_width": "",
            "_view_module": "@jupyter-widgets/base",
            "_model_module_version": "1.5.0",
            "_view_count": null,
            "_view_module_version": "1.2.0",
            "_model_module": "@jupyter-widgets/controls"
          }
        },
        "8b0f24ac78ae4e8caf92e84e28861187": {
          "model_module": "@jupyter-widgets/base",
          "model_name": "LayoutModel",
          "state": {
            "_view_name": "LayoutView",
            "grid_template_rows": null,
            "right": null,
            "justify_content": null,
            "_view_module": "@jupyter-widgets/base",
            "overflow": null,
            "_model_module_version": "1.2.0",
            "_view_count": null,
            "flex_flow": null,
            "width": null,
            "min_width": null,
            "border": null,
            "align_items": null,
            "bottom": null,
            "_model_module": "@jupyter-widgets/base",
            "top": null,
            "grid_column": null,
            "overflow_y": null,
            "overflow_x": null,
            "grid_auto_flow": null,
            "grid_area": null,
            "grid_template_columns": null,
            "flex": null,
            "_model_name": "LayoutModel",
            "justify_items": null,
            "grid_row": null,
            "max_height": null,
            "align_content": null,
            "visibility": null,
            "align_self": null,
            "height": null,
            "min_height": null,
            "padding": null,
            "grid_auto_rows": null,
            "grid_gap": null,
            "max_width": null,
            "order": null,
            "_view_module_version": "1.2.0",
            "grid_template_areas": null,
            "object_position": null,
            "object_fit": null,
            "grid_auto_columns": null,
            "margin": null,
            "display": null,
            "left": null
          }
        }
      }
    }
  },
  "cells": [
    {
      "cell_type": "markdown",
      "metadata": {
        "id": "uiXx9ZdYSY05"
      },
      "source": [
        "AAE for CIFAR10"
      ]
    },
    {
      "cell_type": "code",
      "metadata": {
        "id": "bpMwxtfzSTwD"
      },
      "source": [
        "import torch\n",
        "import torch.nn as nn\n",
        "import torch.nn.functional as F\n",
        "import torchvision\n",
        "import torch.utils.data as data\n",
        "import torch.optim as optim\n",
        "from torchvision.utils import make_grid\n",
        "import torchvision.transforms as transforms\n",
        "\n",
        "\n",
        "import numpy as np\n",
        "import matplotlib.pyplot as plt\n",
        "import os\n",
        "import pickle"
      ],
      "execution_count": 44,
      "outputs": []
    },
    {
      "cell_type": "code",
      "metadata": {
        "id": "kawPKUvPUeo-"
      },
      "source": [
        "def load_pickle(path): # .pkl to numpy ndarray#\n",
        "  with open(path,'rb') as f:\n",
        "    data = pickle.load(f)\n",
        "  train_data, test_data = data['train'], data['test']\n",
        "  #print(type(train_data))\n",
        "  return  train_data, test_data"
      ],
      "execution_count": 24,
      "outputs": []
    },
    {
      "cell_type": "markdown",
      "metadata": {
        "id": "k5-GMtdnWPUw"
      },
      "source": [
        "https://docs.python.org/3/library/pickle.html - more information about pickle in python"
      ]
    },
    {
      "cell_type": "code",
      "metadata": {
        "id": "3Xbv_EOyVs03"
      },
      "source": [
        "def show_samples(samples,title,nrow = 10):\n",
        "  samples = (torch.FloatTensor(samples)/255).permute(0,3,2,1) \n",
        "  # permute because in pytorch should be such consequence <batch size, image channel, image height, image width>.\n",
        "  grid_img = make_grid(samples, nrow=nrow)\n",
        "  plt.figure()\n",
        "  plt.title(title)\n",
        "  plt.imshow(grid_img.permute(1,2,0))\n",
        "  plt.axis('off')\n",
        "  plt.show()"
      ],
      "execution_count": 25,
      "outputs": []
    },
    {
      "cell_type": "code",
      "metadata": {
        "id": "REu5hUErVElY"
      },
      "source": [
        "def visualize_data(data,title):\n",
        "  idxs = np.random.choice(len(data),replace=False, size = (100,))\n",
        "  images = data[idxs]\n",
        "  show_samples(images,title)"
      ],
      "execution_count": 26,
      "outputs": []
    },
    {
      "cell_type": "code",
      "metadata": {
        "id": "YRKrlE63Tw7x",
        "outputId": "e680f03c-db1f-4f50-ee56-84a7234427ac",
        "colab": {
          "base_uri": "https://localhost:8080/",
          "height": 264
        }
      },
      "source": [
        "path = os.path.join('drive', 'My Drive','cifar10.pkl')\n",
        "train_data, test_data = load_pickle(path)\n",
        "visualize_data(train_data,'CIFAR10 samples')"
      ],
      "execution_count": 27,
      "outputs": [
        {
          "output_type": "display_data",
          "data": {
            "image/png": "[encoded data removed]",
            "text/plain": [
              "<Figure size 432x288 with 1 Axes>"
            ]
          },
          "metadata": {
            "tags": [],
            "needs_background": "light"
          }
        }
      ]
    },
    {
      "cell_type": "code",
      "metadata": {
        "id": "IYfuTLbrmdp8"
      },
      "source": [
        "transform = torchvision.transforms.Compose([transforms.ToTensor()])"
      ],
      "execution_count": 46,
      "outputs": []
    },
    {
      "cell_type": "code",
      "metadata": {
        "id": "QvcAmXakldin"
      },
      "source": [
        "BATCH_SIZE = 50\n",
        "minimax_lr = 1e-3\n",
        "reconstruction_lr = 1e-3\n",
        "EPOCHS = 5\n",
        "EPS =1e-15"
      ],
      "execution_count": 161,
      "outputs": []
    },
    {
      "cell_type": "code",
      "metadata": {
        "id": "j6o5IKCjk1PA",
        "outputId": "457d5403-9dcc-469b-96fc-cdd067f7a631",
        "colab": {
          "base_uri": "https://localhost:8080/"
        }
      },
      "source": [
        "data_train = torchvision.datasets.CIFAR10(root='./data',train=True,transform=transform,download =True)\n",
        "data_test = torchvision.datasets.CIFAR10(root='./data',train=False,transform=transform,download=True)\n",
        "train_loader = torch.utils.data.DataLoader(dataset=data_train,batch_size = BATCH_SIZE, shuffle=True)\n",
        "test_loader = torch.utils.data.DataLoader(dataset=data_test, batch_size=BATCH_SIZE,shuffle=False)"
      ],
      "execution_count": 162,
      "outputs": [
        {
          "output_type": "stream",
          "text": [
            "Files already downloaded and verified\n",
            "Files already downloaded and verified\n"
          ],
          "name": "stdout"
        }
      ]
    },
    {
      "cell_type": "code",
      "metadata": {
        "id": "tUDt6r34lnZb",
        "outputId": "a2b51b2a-782c-4b08-81e8-52dffef46496",
        "colab": {
          "base_uri": "https://localhost:8080/"
        }
      },
      "source": [
        "next(iter(train_loader))[0].shape # one element of batch is composed of tensor[3,32,32]\n",
        "next(iter(train_loader))[0][0][0] # is a tensor, whose values in [0,1]"
      ],
      "execution_count": 56,
      "outputs": [
        {
          "output_type": "execute_result",
          "data": {
            "text/plain": [
              "tensor([[0.5569, 0.2196, 0.2196,  ..., 0.9608, 0.9569, 0.9686],\n",
              "        [0.7216, 0.3020, 0.2863,  ..., 0.9373, 0.9529, 0.9686],\n",
              "        [0.8157, 0.3843, 0.2549,  ..., 0.9569, 0.9569, 0.9490],\n",
              "        ...,\n",
              "        [0.4980, 0.6196, 0.7020,  ..., 0.7961, 0.7922, 0.7843],\n",
              "        [0.8980, 0.8941, 0.8784,  ..., 0.7686, 0.7725, 0.7765],\n",
              "        [0.8784, 0.8745, 0.8784,  ..., 0.7608, 0.7608, 0.7608]])"
            ]
          },
          "metadata": {
            "tags": []
          },
          "execution_count": 56
        }
      ]
    },
    {
      "cell_type": "code",
      "metadata": {
        "id": "dvQeq6hKZLnT"
      },
      "source": [
        "class Encoder(nn.Module):\n",
        "  def __init__(self, n_latent):\n",
        "    super(Encoder,self).__init__()\n",
        "    self.net = nn.Sequential(\n",
        "        \n",
        "        nn.Conv2d(in_channels= 3, out_channels= 6, kernel_size= 4, stride = 2, padding = 1, bias= False),\n",
        "        nn.BatchNorm2d(num_features = 6),\n",
        "        nn.LeakyReLU(0.2,inplace=True),\n",
        "\n",
        "        nn.Conv2d(in_channels = 6,out_channels = 12, kernel_size = 4, stride = 2,padding = 1, bias = False),\n",
        "        nn.BatchNorm2d(num_features = 12),\n",
        "        nn.LeakyReLU(0.2,inplace=True),\n",
        "\n",
        "        nn.Conv2d(in_channels= 12, out_channels = 24, kernel_size = 4, stride=2, padding = 1, bias =False),\n",
        "        nn.BatchNorm2d(24),\n",
        "        nn.LeakyReLU(0.2, inplace=True),\n",
        "\n",
        "        nn.Flatten(), # From Conv2D to Linear MLP\n",
        "        nn.Linear(in_features = 24*4*4, out_features= 1024),\n",
        "        nn.BatchNorm1d(num_features = 1024),\n",
        "        nn.LeakyReLU(0.2, inplace=True)\n",
        "    )\n",
        "    self.latent_layer = nn.Linear(1024, n_latent)\n",
        "\n",
        "  # at first, will try to assump that variance distribution from normal\n",
        "  # after, will not use certain distribution and will trust to neural network(encoder)\n",
        "  def forward(self, input):\n",
        "    output = self.net(input)\n",
        "    latent_output = self.latent_layer(output)\n",
        "    # 2* n_latent values in latent_output\n",
        "    #mu_z, log_std_z = latent_output.chunk(2, dim=1)\n",
        "    return latent_output"
      ],
      "execution_count": 163,
      "outputs": []
    },
    {
      "cell_type": "code",
      "metadata": {
        "id": "CSTxtqMhztxe"
      },
      "source": [
        "class Unflatten(nn.Module):\n",
        "  def __init__(self,shape):\n",
        "    super(Unflatten,self).__init__()\n",
        "    self.shape = shape\n",
        "  \n",
        "  def forward(self, input):\n",
        "    answer = input.view(len(input) , self.shape[0],self.shape[1],self.shape[2])\n",
        "    return answer"
      ],
      "execution_count": 164,
      "outputs": []
    },
    {
      "cell_type": "code",
      "metadata": {
        "id": "yNCH26BofOTR"
      },
      "source": [
        "class Decoder(nn.Module):\n",
        "  \n",
        "  def __init__(self,n_latent):\n",
        "    super(Decoder,self).__init__()\n",
        "    self.net = nn.Sequential(\n",
        "        \n",
        "        nn.Linear(n_latent,1024),\n",
        "        nn.Linear(1024,24*4*4),\n",
        "        nn.BatchNorm1d(24*4*4),\n",
        "        nn.LeakyReLU(0.2, inplace = True),\n",
        "        Unflatten((24,4,4)),\n",
        "\n",
        "\n",
        "        \n",
        "        nn.ConvTranspose2d(in_channels= 24 ,out_channels= 12 ,kernel_size = 7   ,stride = 1 ,padding = 1 ,bias=False),\n",
        "        nn.BatchNorm2d(12),\n",
        "        nn.LeakyReLU(0.2, inplace = True),\n",
        "\n",
        "        nn.ConvTranspose2d(12,6, kernel_size = 4, stride = 2, padding=1, bias=False),\n",
        "        nn.BatchNorm2d(6),\n",
        "        nn.LeakyReLU(0.2, inplace = True),\n",
        "\n",
        "        nn.ConvTranspose2d(6,3, kernel_size = 4, stride=2,padding=1, bias =False),\n",
        "        nn.BatchNorm2d(3),\n",
        "        nn.LeakyReLU(0.2, inplace = True),\n",
        "\n",
        "        nn.Conv2d(3,3,kernel_size=3, stride = 1, padding = 1 ,bias=False),\n",
        "        nn.Tanh()\n",
        "    )\n",
        "    \n",
        "  def forward(self, input):\n",
        "    return self.net(input)\n"
      ],
      "execution_count": 165,
      "outputs": []
    },
    {
      "cell_type": "code",
      "metadata": {
        "id": "69NYZEz62mTH"
      },
      "source": [
        "class Discriminator(nn.Module):\n",
        "  def __init__(self,n_latent):\n",
        "    super(Discriminator,self).__init__()\n",
        "    self.net = nn.Sequential(\n",
        "        nn.Linear(n_latent,1000),\n",
        "        nn.LeakyReLU(0.2,inplace=True),\n",
        "        nn.Linear(1000,1000),\n",
        "        nn.LeakyReLU(0.2, inplace= True),\n",
        "        nn.Linear(1000,1),\n",
        "        nn.Sigmoid()\n",
        "\n",
        "    )\n",
        "  def forward(self, input):\n",
        "    return self.net(input)"
      ],
      "execution_count": 166,
      "outputs": []
    },
    {
      "cell_type": "code",
      "metadata": {
        "id": "aHxdtV844p9K"
      },
      "source": [
        "n_latent = 60\n",
        "encoder = Encoder(n_latent)\n",
        "decoder = Decoder(n_latent)\n",
        "discriminator = Discriminator(n_latent)"
      ],
      "execution_count": 167,
      "outputs": []
    },
    {
      "cell_type": "code",
      "metadata": {
        "id": "qte26JKd9_Us"
      },
      "source": [
        "encoder_optim = optim.Adam(encoder.parameters(),lr= reconstruction_lr)\n",
        "generator_optim = optim.Adam(encoder.parameters(),lr= minimax_lr)\n",
        "decoder_optim = optim.Adam(decoder.parameters(),lr= reconstruction_lr)\n",
        "discriminator_optim = optim.Adam(discriminator.parameters(),lr = minimax_lr)"
      ],
      "execution_count": 168,
      "outputs": []
    },
    {
      "cell_type": "code",
      "metadata": {
        "id": "dktTxK06DeB0"
      },
      "source": [
        "import tqdm\n",
        "from tqdm import tqdm_notebook"
      ],
      "execution_count": 113,
      "outputs": []
    },
    {
      "cell_type": "code",
      "metadata": {
        "id": "FATRF2z8UDj7",
        "outputId": "6cd93019-54bd-43d0-a0e1-f6b216d0fa51",
        "colab": {
          "base_uri": "https://localhost:8080/"
        }
      },
      "source": [
        "# F.mse_loss in details\n",
        "a = torch.tensor([ [[[2,3],[4,5]] , [[6,6],[7,9]]],  [[[10,10],[12,13]],[[14,16],[16,18]]]  ],dtype=torch.float)\n",
        "b = torch.tensor([ [[[1,2],[3,4]] , [[5,6],[7,8]]],  [[[9,10],[11,12]],[[13,14],[15,16]]]  ],dtype=torch.float)\n",
        "F.mse_loss(a,b,reduction='none').view(2,-1).sum(1).mean()"
      ],
      "execution_count": 138,
      "outputs": [
        {
          "output_type": "execute_result",
          "data": {
            "text/plain": [
              "tensor(9.5000)"
            ]
          },
          "metadata": {
            "tags": []
          },
          "execution_count": 138
        }
      ]
    },
    {
      "cell_type": "code",
      "metadata": {
        "id": "ddAJUBOrDt6e",
        "outputId": "0af1d93b-3926-4110-f59d-0f5024df0479",
        "colab": {
          "base_uri": "https://localhost:8080/"
        }
      },
      "source": [
        "def train_model(num_epochs, train_loader, encoder, decoder, discriminator ):\n",
        "\n",
        "  reconstruction_loss = []\n",
        "  generator_loss = []\n",
        "  discriminator_loss = []\n",
        "\n",
        "  encoder_optim = optim.Adam(encoder.parameters(),lr= reconstruction_lr)\n",
        "  generator_optim = optim.Adam(encoder.parameters(),lr= minimax_lr)\n",
        "  decoder_optim = optim.Adam(decoder.parameters(),lr= reconstruction_lr)\n",
        "  discriminator_optim = optim.Adam(discriminator.parameters(),lr = minimax_lr)\n",
        "\n",
        "  for epoch in range(num_epochs):\n",
        "    \n",
        "    encoder.train()\n",
        "    decoder.train()\n",
        "    discriminator.train()\n",
        "\n",
        "    for data,_ in tqdm_notebook(train_loader):\n",
        "      \n",
        "      encoder_optim.zero_grad()\n",
        "      decoder_optim.zero_grad()\n",
        "      discriminator_optim.zero_grad()\n",
        "      generator_optim.zero_grad()\n",
        "\n",
        "      ##### reconstruction loss #####\n",
        "      latent_sample = encoder(data)\n",
        "      # latent_sample.shape == torch.Size[Batch_size, n_latent = 60]\n",
        "      x_sample = decoder(latent_sample)\n",
        "      # x_sample.shape == torch.Size[Batch_size, 3, 32,32]\n",
        "      # data.shape == torch.Size([Batch_size, 3, 32, 32])\n",
        "      \n",
        "\n",
        "      recon_loss = F.mse_loss(x_sample,data,reduction='none')\n",
        "      # recon_loss.shape == torch.Size([Batch_size,3,32,32])\n",
        "      recon_loss = recon_loss.view(BATCH_SIZE,-1).sum(1).mean()\n",
        "      reconstruction_loss.append(recon_loss.item())\n",
        "      \n",
        "      recon_loss.backward()\n",
        "      encoder_optim.step()\n",
        "      decoder_optim.step()\n",
        "\n",
        "\n",
        "      #### discriminator loss   #####\n",
        "\n",
        "      encoder.eval()\n",
        "      real_latent = torch.randn(BATCH_SIZE,n_latent)\n",
        "      # real_latent.shape == torch.Size([BATCH_SIZE,n_latent])\n",
        "      real_discriminator = discriminator(real_latent)\n",
        "      # real_discriminator.shape == torch.Size([Batch_Size,1])\n",
        "\n",
        "      fake_latent = encoder(data)\n",
        "      fake_discriminator = discriminator(fake_latent)\n",
        "      #fake_discriminator.shape == torch.Size([Batch_size,1])\n",
        "      \n",
        "      discr_loss = -torch.mean(torch.log(real_discriminator + EPS) + torch.log( 1 - fake_discriminator + EPS))\n",
        "      discriminator_loss.append(discr_loss)\n",
        "      discr_loss.backward()\n",
        "      discriminator_optim.step()\n",
        "      \n",
        "\n",
        "      ####   generator   loss   ####\n",
        "      encoder.train()\n",
        "\n",
        "      fake_latent = encoder(data)\n",
        "      fake_discriminator = discriminator(fake_latent)\n",
        "\n",
        "      gen_loss = -torch.mean(torch.log(fake_discriminator + EPS))\n",
        "      generator_loss.append(gen_loss)\n",
        "      gen_loss.backward()\n",
        "      generator_optim.step()\n",
        "      \n",
        "\n",
        "\n",
        "  return reconstruction_loss, discriminator_loss, generator_loss"
      ],
      "execution_count": 171,
      "outputs": [
        {
          "output_type": "stream",
          "text": [
            "\n"
          ],
          "name": "stdout"
        }
      ]
    },
    {
      "cell_type": "code",
      "metadata": {
        "id": "kcNqcSNiJs5N",
        "outputId": "08b58806-6433-405a-eb8e-dcfe0a19d762",
        "colab": {
          "base_uri": "https://localhost:8080/",
          "height": 316,
          "referenced_widgets": [
            "f907a9579d844b92985ba5876ef2cdea",
            "9458386a21c1473faf78672bc0413e85",
            "b4fd3f8056884c558648566879abe682",
            "2b4bf5d41ff648acbf24659d0cf47ea5",
            "30160996fed2492fb0a78e549843ebfb",
            "93bbfadb8198479a831297cf2a88b4e2",
            "2b57cb2358bb4685923b84e2d513199c",
            "2858b1ecac994104998607431ff1bf88",
            "35beb78af03a4ff2a5e511ba219e4a9a",
            "0b3f90e981d64a7d809964dbc82ac290",
            "c49f9714ae474f4882f184fd707131ed",
            "f3d24cd0b81245229989811845c84f6b",
            "2ef68ca928c54206874e9ea5077b4692",
            "5bacd879bc6140919022d197861fc2b4",
            "9ccd54727cfe4bd69ca611468b1e1061",
            "3723d794dc0f4585bffc605b4898105e",
            "56293165ec8748788748c2b9b9467baa",
            "b236ae1fd9e14c83b4a0a33613ef9c0d",
            "8de779e1c7804d818ee8ecb8ecdfefde",
            "a66b039bc97a49f182a2250157d79abd",
            "61ddb4e040964a4d8f35f13587e9ce41",
            "40702c90c5194b01bd02bd85d3440a98",
            "3dbb3c5deed94516b1ae1f46bad4a173",
            "2278cd44727541419144ce99c3697e71",
            "6f2a58af6ed04651a2682899f602d722",
            "65dc9fba807f49058ff33322083a2352",
            "da02d550ea444c4c8d0169a7e588256a",
            "573cbb7fa0324d958cd326a4a4bebbbb",
            "acd324c76eae45498aa0ac9155469d05",
            "555ea3e42c8540f590baf47bd51689ac",
            "e9f354c87b9941099346189cd777c1c8",
            "88d0348c61444e39bb2e46ca8988f511",
            "4c2e55a3807c4905bebc1104cee5181e",
            "b9b81617ca0443ffbf876a7b90691eb8",
            "65d264faacbe4d30afbad9bc293571ac",
            "c45344580feb4af3aee2da2ce3557c2b",
            "609478c681414ab992fa2acb26673d1b",
            "7b078ba027ae40829b7795fe0f63cefe",
            "6681c80fd6c84a71b2f3e288f51aeffe",
            "8b0f24ac78ae4e8caf92e84e28861187"
          ]
        }
      },
      "source": [
        "reconstruction_loss, discriminator_loss, generator_loss =   train_model(EPOCHS,train_loader,encoder, decoder, discriminator )"
      ],
      "execution_count": 173,
      "outputs": [
        {
          "output_type": "stream",
          "text": [
            "/usr/local/lib/python3.6/dist-packages/ipykernel_launcher.py:18: TqdmDeprecationWarning: This function will be removed in tqdm==5.0.0\n",
            "Please use `tqdm.notebook.tqdm` instead of `tqdm.tqdm_notebook`\n"
          ],
          "name": "stderr"
        },
        {
          "output_type": "display_data",
          "data": {
            "application/vnd.jupyter.widget-view+json": {
              "model_id": "f907a9579d844b92985ba5876ef2cdea",
              "version_minor": 0,
              "version_major": 2
            },
            "text/plain": [
              "HBox(children=(FloatProgress(value=0.0, max=1000.0), HTML(value='')))"
            ]
          },
          "metadata": {
            "tags": []
          }
        },
        {
          "output_type": "stream",
          "text": [
            "\n"
          ],
          "name": "stdout"
        },
        {
          "output_type": "display_data",
          "data": {
            "application/vnd.jupyter.widget-view+json": {
              "model_id": "35beb78af03a4ff2a5e511ba219e4a9a",
              "version_minor": 0,
              "version_major": 2
            },
            "text/plain": [
              "HBox(children=(FloatProgress(value=0.0, max=1000.0), HTML(value='')))"
            ]
          },
          "metadata": {
            "tags": []
          }
        },
        {
          "output_type": "stream",
          "text": [
            "\n"
          ],
          "name": "stdout"
        },
        {
          "output_type": "display_data",
          "data": {
            "application/vnd.jupyter.widget-view+json": {
              "model_id": "56293165ec8748788748c2b9b9467baa",
              "version_minor": 0,
              "version_major": 2
            },
            "text/plain": [
              "HBox(children=(FloatProgress(value=0.0, max=1000.0), HTML(value='')))"
            ]
          },
          "metadata": {
            "tags": []
          }
        },
        {
          "output_type": "stream",
          "text": [
            "\n"
          ],
          "name": "stdout"
        },
        {
          "output_type": "display_data",
          "data": {
            "application/vnd.jupyter.widget-view+json": {
              "model_id": "6f2a58af6ed04651a2682899f602d722",
              "version_minor": 0,
              "version_major": 2
            },
            "text/plain": [
              "HBox(children=(FloatProgress(value=0.0, max=1000.0), HTML(value='')))"
            ]
          },
          "metadata": {
            "tags": []
          }
        },
        {
          "output_type": "stream",
          "text": [
            "\n"
          ],
          "name": "stdout"
        },
        {
          "output_type": "display_data",
          "data": {
            "application/vnd.jupyter.widget-view+json": {
              "model_id": "4c2e55a3807c4905bebc1104cee5181e",
              "version_minor": 0,
              "version_major": 2
            },
            "text/plain": [
              "HBox(children=(FloatProgress(value=0.0, max=1000.0), HTML(value='')))"
            ]
          },
          "metadata": {
            "tags": []
          }
        },
        {
          "output_type": "stream",
          "text": [
            "\n"
          ],
          "name": "stdout"
        }
      ]
    },
    {
      "cell_type": "code",
      "metadata": {
        "id": "IfHz3rxnJs0w",
        "outputId": "af055675-36bf-44c3-b7db-3586d28fad34",
        "colab": {
          "base_uri": "https://localhost:8080/",
          "height": 374
        }
      },
      "source": [
        "fig,ax = plt.subplots(3,1,figsize=(10,6))\n",
        "ax[0].plot(reconstruction_loss, color = 'blue', label = 'reconstruction loss')\n",
        "ax[1].plot(discriminator_loss,color='magenta', label = 'loss of discriminator')\n",
        "ax[2].plot(generator_loss,color='darkorange', label = 'loss of generator')\n",
        "ax[1].legend()\n",
        "ax[0].legend()\n",
        "ax[2].legend()\n",
        "plt.show()"
      ],
      "execution_count": 174,
      "outputs": [
        {
          "output_type": "display_data",
          "data": {
            "image/png": "[encoded data removed]",
            "text/plain": [
              "<Figure size 720x432 with 3 Axes>"
            ]
          },
          "metadata": {
            "tags": [],
            "needs_background": "light"
          }
        }
      ]
    },
    {
      "cell_type": "markdown",
      "metadata": {
        "id": "dzP7XGHdJqL0"
      },
      "source": [
        "https://github.com/artemsavkin/aae/blob/master/aae.ipynb"
      ]
    }
  ]
}